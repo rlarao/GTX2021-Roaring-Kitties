{
 "cells": [
  {
   "cell_type": "markdown",
   "metadata": {},
   "source": [
    "# Geothermal Datathon 2021\n",
    "---"
   ]
  },
  {
   "cell_type": "markdown",
   "metadata": {},
   "source": [
    "<img src=\"../figures/the_roaring_kitties_logo.png\" width=\"200\" align=\"center\">"
   ]
  },
  {
   "cell_type": "markdown",
   "metadata": {},
   "source": [
    "Team members:\n",
    "- **Ricardo Lara**\n",
    "- **Artur Davletshin**\n",
    "- **Aigul Akberova**\n",
    "- **Sercan Gul**\n",
    "- **Hakki Aydin**\n",
    "- **Jose Hernandez**\n",
    "\n",
    "\n",
    "---"
   ]
  },
  {
   "source": [
    "### Import Modules"
   ],
   "cell_type": "markdown",
   "metadata": {}
  },
  {
   "cell_type": "code",
   "execution_count": 1,
   "metadata": {},
   "outputs": [],
   "source": [
    "import pandas as pd\n",
    "import numpy as np\n",
    "import seaborn as sns\n",
    "import missingno as msno\n",
    "import matplotlib.pyplot as plt"
   ]
  },
  {
   "source": [
    "### Define functions"
   ],
   "cell_type": "markdown",
   "metadata": {}
  },
  {
   "cell_type": "code",
   "execution_count": 191,
   "metadata": {},
   "outputs": [],
   "source": [
    "def interpolate_syn_temp(df_original, df_synthetic):\n",
    "    df = df_original.copy(deep=True)\n",
    "    df_syn = df_synthetic.copy(deep=True)\n",
    "\n",
    "    df['Synthetic Temp, C'] = np.NAN\n",
    "\n",
    "    UWIs = df_syn.UWI.unique()\n",
    "    \n",
    "    for i, UWI in enumerate(UWIs):\n",
    "        try:\n",
    "            x = df.loc[df.UWI == UWI, 'Depth subsea, m'][0]\n",
    "        except KeyError:\n",
    "            continue\n",
    "\n",
    "        depths = df_syn.loc[df_syn.UWI == UWI,'Depth subsea, m'].to_list()\n",
    "        temps = df_syn.loc[df_syn.UWI == UWI,'Synthetic Temp, C'].to_list()\n",
    "\n",
    "        if x < depths[-1]:\n",
    "            x1 = max([d for d in depths if d < x])\n",
    "            x2 = min([d for d in depths if d > x])\n",
    "            t1 = temps[depths.index(x1)]\n",
    "            t2 = temps[depths.index(x2)]\n",
    "        else:\n",
    "            x1 = depths[-2]\n",
    "            x2 = depths[-1]\n",
    "            t1 = temps[depths.index(x1)]\n",
    "            t2 = temps[depths.index(x2)]\n",
    "            \n",
    "        t = t1 + (x - x1) * (t2 - t1) / (x2 - x1)\n",
    "            \n",
    "        df.loc[df.UWI == UWI, 'Synthetic Temp, C'] = t\n",
    "    \n",
    "    return df\n",
    "\n",
    "def get_static_temp(df_original, df_static):\n",
    "    df = df_original.copy(deep=True)\n",
    "    df2 = df_static.copy(deep=True)\n",
    "\n",
    "    df3 = df.merge(df2, on='UWI', how='left')\n",
    "\n",
    "    df3['static_diff_depth'] = df3['Depth subsea, m_y'] - df3['Depth subsea, m_x']\n",
    "\n",
    "    df4 = df.merge(df3[['UWI', 'Static Temp, C']], on='UWI', how='left')\n",
    "\n",
    "    return df4\n",
    "\n",
    "\n",
    "def get_synthetic_temp(df_original, df_synthetic):\n",
    "    df = df_original.copy(deep=True)\n",
    "    df2 = df_synthetic.copy(deep=True)\n",
    "\n",
    "    df3 = df.merge(df2, on='UWI', how='left')\n",
    "\n",
    "    df3['syn_diff_depth'] = df3['Depth subsea, m_y'] - df3['Depth subsea, m_x']\n",
    "    df3['diff_depth_abs'] = np.abs(df3['syn_diff_depth'])\n",
    "\n",
    "    idx = df3.groupby(['UWI'])['diff_depth_abs'].transform(min) == df3['diff_depth_abs']\n",
    "\n",
    "    truetemp = df3.loc[idx, ['UWI', 'Synthetic Temp, C']]\n",
    "\n",
    "    df4 = df.merge(truetemp, on='UWI', how='left')\n",
    "\n",
    "    return df4\n"
   ]
  },
  {
   "source": [
    "# 1 Eaglebine"
   ],
   "cell_type": "markdown",
   "metadata": {}
  },
  {
   "source": [
    "## 1.1 Load temperature data"
   ],
   "cell_type": "markdown",
   "metadata": {}
  },
  {
   "cell_type": "code",
   "execution_count": 32,
   "metadata": {},
   "outputs": [],
   "source": [
    "EB = pd.read_excel('../data/Eaglebine/Eaglebine BHT TSC data for SPE April 21 2020.xlsx') # Bottom-hole temperatures\n",
    "EB_syn = pd.read_excel('../data/Eaglebine/Eaglebine TrueTemp_Train2.xlsx') # Synthetic temperatures\n",
    "EB_TL = pd.read_csv('../data/Data_static_logs.csv') # Temperature static logs\n",
    "assign = pd.read_csv(\"../data/set_assign.csv\") # labels for train and validation sets\n",
    "\n",
    "UWIs_test = assign.loc[assign.Set == 'Validation_Testing', 'UWI']\n",
    "UWIs_train = assign.loc[assign.Set == 'Training', 'UWI']"
   ]
  },
  {
   "source": [
    "### Convert unis to SI"
   ],
   "cell_type": "markdown",
   "metadata": {}
  },
  {
   "cell_type": "code",
   "execution_count": 33,
   "metadata": {},
   "outputs": [],
   "source": [
    "# Eaglebine BHT\n",
    "columns = ['TD (ft)', 'GL(ft)', 'BHT_below sea level (ft)', 'BHT_ subsurface (ft)']\n",
    "EB[['TD, m', 'GL, m', 'Depth subsea, m', 'Depth subsurface, m',]]  = EB[columns] / 3.28084\n",
    "EB['BHT, C'] = (EB['BHTorMRT (maximum recorded temperature) oF']-32)*5/9\n",
    "\n",
    "# Eaglebine True\n",
    "EB_syn['Depth subsea, m'] = EB_syn['Depth sub-sea (feet)'] / 3.28084\n",
    "EB_syn['True Temperature, C'] = (EB_syn['True Temperature   (oF)'] - 32) * 5 / 9\n",
    "\n",
    "# Log temps\n",
    "EB_TL['Depth, m'] = TL['Depth (ft)'] / 3.28084"
   ]
  },
  {
   "source": [
    "### Rename columns"
   ],
   "cell_type": "markdown",
   "metadata": {}
  },
  {
   "cell_type": "code",
   "execution_count": 31,
   "metadata": {},
   "outputs": [
    {
     "output_type": "execute_result",
     "data": {
      "text/plain": [
       "['UWI',\n",
       " 'SurfLat',\n",
       " 'SurfLong',\n",
       " 'TD, ft',\n",
       " 'GL, ft',\n",
       " 'Depth subsea, ft',\n",
       " 'Depth subsurface, ft',\n",
       " 'BHT, F',\n",
       " 'TSC, h',\n",
       " 'TD, m',\n",
       " 'GL, m',\n",
       " 'Depth subsea, m',\n",
       " 'Depth subsurface, m',\n",
       " 'BHT, C']"
      ]
     },
     "metadata": {},
     "execution_count": 31
    }
   ],
   "source": [
    "EB.columns.to_list()"
   ]
  },
  {
   "cell_type": "code",
   "execution_count": 29,
   "metadata": {},
   "outputs": [],
   "source": [
    "# Rename columns\n",
    "col_names = ['UWI',\n",
    "                'SurfLat',\n",
    "                'SurfLong',\n",
    "                'TD, ft',\n",
    "                'GL, ft',\n",
    "                'Depth subsea, ft',\n",
    "                'Depth subsurface, ft',\n",
    "                'BHT, F',\n",
    "                'TSC, h', \n",
    "                'TD, m',\n",
    "                'GL, m',\n",
    "                'Depth subsea, m',\n",
    "                'Depth subsurface, m',\n",
    "                'BHT, C'\n",
    "                ]\n",
    "\n",
    "EB.columns = col_names\n",
    "\n",
    "# Select subset of features in SI units\n",
    "EB2 = EB[['UWI',\n",
    "        'SurfLat',\n",
    "        'SurfLong',\n",
    "        'TD, m',\n",
    "        'GL, m',\n",
    "        'Depth subsea, m',\n",
    "        'Depth subsurface, m',\n",
    "        'TSC, h',\n",
    "        'BHT, C'\n",
    "]]"
   ]
  },
  {
   "cell_type": "code",
   "execution_count": 34,
   "metadata": {},
   "outputs": [
    {
     "output_type": "execute_result",
     "data": {
      "text/plain": [
       "['UWI',\n",
       " 'Depth sub-sea (feet)',\n",
       " 'True Temperature   (oF)',\n",
       " 'Depth subsea, m',\n",
       " 'True Temperature, C']"
      ]
     },
     "metadata": {},
     "execution_count": 34
    }
   ],
   "source": [
    "EB_syn.columns.to_list()"
   ]
  },
  {
   "cell_type": "code",
   "execution_count": 43,
   "metadata": {},
   "outputs": [],
   "source": [
    "col_names = ['UWI',\n",
    "            'Depth subsea, ft',\n",
    "            'Synthetic Temp, F',\n",
    "            'Depth subsea, m',\n",
    "            'Synthetic Temp, C']\n",
    "\n",
    "EB_syn.columns = col_names\n",
    "\n",
    "EB_syn2 = EB_syn[['UWI',\n",
    "                'Depth subsea, m',\n",
    "                'Synthetic Temp, C']]"
   ]
  },
  {
   "cell_type": "code",
   "execution_count": 36,
   "metadata": {},
   "outputs": [
    {
     "output_type": "execute_result",
     "data": {
      "text/plain": [
       "['Well_ID', 'Depth (ft)', 'Temp (degC)', 'Field', 'Depth, m']"
      ]
     },
     "metadata": {},
     "execution_count": 36
    }
   ],
   "source": [
    "EB_TL.columns.to_list()"
   ]
  },
  {
   "cell_type": "code",
   "execution_count": 41,
   "metadata": {},
   "outputs": [],
   "source": [
    "col_names = ['UWI',\n",
    "            'Depth, ft',\n",
    "            'Static Temp, C',\n",
    "            'Field',\n",
    "            'Depth, m',\n",
    "            ]\n",
    "\n",
    "EB_TL.columns = col_names\n",
    "\n",
    "# Select subset of features in SI units\n",
    "EB_TL2 = EB_TL[['UWI',\n",
    "        'Depth, m',\n",
    "        'Static Temp, C',\n",
    "        'Field'\n",
    "        ]]"
   ]
  },
  {
   "cell_type": "code",
   "execution_count": 64,
   "metadata": {},
   "outputs": [],
   "source": [
    "EB2.UWI = EB2.UWI.astype('str');\n",
    "EB_syn2.UWI = EB_syn2.UWI.astype('str');\n",
    "EB_TL2.UWI = EB_TL2.UWI.astype('str');\n",
    "assign.UWI = assign.UWI.astype('str');"
   ]
  },
  {
   "source": [
    "## 1.2 Add Synthetic and Static Temperatures"
   ],
   "cell_type": "markdown",
   "metadata": {}
  },
  {
   "cell_type": "code",
   "execution_count": 65,
   "metadata": {},
   "outputs": [
    {
     "output_type": "execute_result",
     "data": {
      "text/plain": [
       "              UWI    SurfLat   SurfLong        TD, m       GL, m  \\\n",
       "0  42013301410000  28.690426 -98.470138  5982.919009  105.430317   \n",
       "1  42013301930000  28.779921 -98.208313  3284.219895  121.127516   \n",
       "2  42013302760000  28.994360 -98.421799  1880.006340  140.329916   \n",
       "3  42013305480000  28.759118 -98.156410  2498.750320  125.089916   \n",
       "4  42013310190000  28.817400 -98.155319  3352.799893  155.118811   \n",
       "\n",
       "   Depth subsea, m  Depth subsurface, m  TSC, h      BHT, C  Synthetic Temp, C  \n",
       "0      3725.417881          3830.848197    5.50   61.666667         141.773056  \n",
       "1      3168.700699          3289.828215   11.00  107.222222         132.005556  \n",
       "2      1747.418344          1887.748260    5.50   65.555556          88.974111  \n",
       "3      2379.268724          2504.358640    5.00   76.666667         108.009111  \n",
       "4      3203.289401          3358.408213    7.75   98.888889         133.797009  "
      ],
      "text/html": "<div>\n<style scoped>\n    .dataframe tbody tr th:only-of-type {\n        vertical-align: middle;\n    }\n\n    .dataframe tbody tr th {\n        vertical-align: top;\n    }\n\n    .dataframe thead th {\n        text-align: right;\n    }\n</style>\n<table border=\"1\" class=\"dataframe\">\n  <thead>\n    <tr style=\"text-align: right;\">\n      <th></th>\n      <th>UWI</th>\n      <th>SurfLat</th>\n      <th>SurfLong</th>\n      <th>TD, m</th>\n      <th>GL, m</th>\n      <th>Depth subsea, m</th>\n      <th>Depth subsurface, m</th>\n      <th>TSC, h</th>\n      <th>BHT, C</th>\n      <th>Synthetic Temp, C</th>\n    </tr>\n  </thead>\n  <tbody>\n    <tr>\n      <th>0</th>\n      <td>42013301410000</td>\n      <td>28.690426</td>\n      <td>-98.470138</td>\n      <td>5982.919009</td>\n      <td>105.430317</td>\n      <td>3725.417881</td>\n      <td>3830.848197</td>\n      <td>5.50</td>\n      <td>61.666667</td>\n      <td>141.773056</td>\n    </tr>\n    <tr>\n      <th>1</th>\n      <td>42013301930000</td>\n      <td>28.779921</td>\n      <td>-98.208313</td>\n      <td>3284.219895</td>\n      <td>121.127516</td>\n      <td>3168.700699</td>\n      <td>3289.828215</td>\n      <td>11.00</td>\n      <td>107.222222</td>\n      <td>132.005556</td>\n    </tr>\n    <tr>\n      <th>2</th>\n      <td>42013302760000</td>\n      <td>28.994360</td>\n      <td>-98.421799</td>\n      <td>1880.006340</td>\n      <td>140.329916</td>\n      <td>1747.418344</td>\n      <td>1887.748260</td>\n      <td>5.50</td>\n      <td>65.555556</td>\n      <td>88.974111</td>\n    </tr>\n    <tr>\n      <th>3</th>\n      <td>42013305480000</td>\n      <td>28.759118</td>\n      <td>-98.156410</td>\n      <td>2498.750320</td>\n      <td>125.089916</td>\n      <td>2379.268724</td>\n      <td>2504.358640</td>\n      <td>5.00</td>\n      <td>76.666667</td>\n      <td>108.009111</td>\n    </tr>\n    <tr>\n      <th>4</th>\n      <td>42013310190000</td>\n      <td>28.817400</td>\n      <td>-98.155319</td>\n      <td>3352.799893</td>\n      <td>155.118811</td>\n      <td>3203.289401</td>\n      <td>3358.408213</td>\n      <td>7.75</td>\n      <td>98.888889</td>\n      <td>133.797009</td>\n    </tr>\n  </tbody>\n</table>\n</div>"
     },
     "metadata": {},
     "execution_count": 65
    }
   ],
   "source": [
    "EB3 = interpolate_syn_temp(EB2, EB_syn2)\n",
    "EB3.head()"
   ]
  },
  {
   "cell_type": "code",
   "execution_count": 68,
   "metadata": {},
   "outputs": [
    {
     "output_type": "execute_result",
     "data": {
      "text/plain": [
       "              UWI    SurfLat   SurfLong        TD, m       GL, m  \\\n",
       "0  42013301410000  28.690426 -98.470138  5982.919009  105.430317   \n",
       "1  42013301930000  28.779921 -98.208313  3284.219895  121.127516   \n",
       "2  42013302760000  28.994360 -98.421799  1880.006340  140.329916   \n",
       "3  42013305480000  28.759118 -98.156410  2498.750320  125.089916   \n",
       "4  42013310190000  28.817400 -98.155319  3352.799893  155.118811   \n",
       "\n",
       "   Depth subsea, m  Depth subsurface, m  TSC, h      BHT, C  \\\n",
       "0      3725.417881          3830.848197    5.50   61.666667   \n",
       "1      3168.700699          3289.828215   11.00  107.222222   \n",
       "2      1747.418344          1887.748260    5.50   65.555556   \n",
       "3      2379.268724          2504.358640    5.00   76.666667   \n",
       "4      3203.289401          3358.408213    7.75   98.888889   \n",
       "\n",
       "   Synthetic Temp, C  Static Temp, C  \n",
       "0         141.773056             NaN  \n",
       "1         132.005556         132.778  \n",
       "2          88.974111             NaN  \n",
       "3         108.009111             NaN  \n",
       "4         133.797009             NaN  "
      ],
      "text/html": "<div>\n<style scoped>\n    .dataframe tbody tr th:only-of-type {\n        vertical-align: middle;\n    }\n\n    .dataframe tbody tr th {\n        vertical-align: top;\n    }\n\n    .dataframe thead th {\n        text-align: right;\n    }\n</style>\n<table border=\"1\" class=\"dataframe\">\n  <thead>\n    <tr style=\"text-align: right;\">\n      <th></th>\n      <th>UWI</th>\n      <th>SurfLat</th>\n      <th>SurfLong</th>\n      <th>TD, m</th>\n      <th>GL, m</th>\n      <th>Depth subsea, m</th>\n      <th>Depth subsurface, m</th>\n      <th>TSC, h</th>\n      <th>BHT, C</th>\n      <th>Synthetic Temp, C</th>\n      <th>Static Temp, C</th>\n    </tr>\n  </thead>\n  <tbody>\n    <tr>\n      <th>0</th>\n      <td>42013301410000</td>\n      <td>28.690426</td>\n      <td>-98.470138</td>\n      <td>5982.919009</td>\n      <td>105.430317</td>\n      <td>3725.417881</td>\n      <td>3830.848197</td>\n      <td>5.50</td>\n      <td>61.666667</td>\n      <td>141.773056</td>\n      <td>NaN</td>\n    </tr>\n    <tr>\n      <th>1</th>\n      <td>42013301930000</td>\n      <td>28.779921</td>\n      <td>-98.208313</td>\n      <td>3284.219895</td>\n      <td>121.127516</td>\n      <td>3168.700699</td>\n      <td>3289.828215</td>\n      <td>11.00</td>\n      <td>107.222222</td>\n      <td>132.005556</td>\n      <td>132.778</td>\n    </tr>\n    <tr>\n      <th>2</th>\n      <td>42013302760000</td>\n      <td>28.994360</td>\n      <td>-98.421799</td>\n      <td>1880.006340</td>\n      <td>140.329916</td>\n      <td>1747.418344</td>\n      <td>1887.748260</td>\n      <td>5.50</td>\n      <td>65.555556</td>\n      <td>88.974111</td>\n      <td>NaN</td>\n    </tr>\n    <tr>\n      <th>3</th>\n      <td>42013305480000</td>\n      <td>28.759118</td>\n      <td>-98.156410</td>\n      <td>2498.750320</td>\n      <td>125.089916</td>\n      <td>2379.268724</td>\n      <td>2504.358640</td>\n      <td>5.00</td>\n      <td>76.666667</td>\n      <td>108.009111</td>\n      <td>NaN</td>\n    </tr>\n    <tr>\n      <th>4</th>\n      <td>42013310190000</td>\n      <td>28.817400</td>\n      <td>-98.155319</td>\n      <td>3352.799893</td>\n      <td>155.118811</td>\n      <td>3203.289401</td>\n      <td>3358.408213</td>\n      <td>7.75</td>\n      <td>98.888889</td>\n      <td>133.797009</td>\n      <td>NaN</td>\n    </tr>\n  </tbody>\n</table>\n</div>"
     },
     "metadata": {},
     "execution_count": 68
    }
   ],
   "source": [
    "EB4 = EB3.merge(TL2[['UWI','Static Temp, C']], on='UWI', how='left')\n",
    "EB4.head()"
   ]
  },
  {
   "source": [
    "## 1.3 Merge Synthetic and Static Temperatures\n"
   ],
   "cell_type": "markdown",
   "metadata": {}
  },
  {
   "cell_type": "code",
   "execution_count": 73,
   "metadata": {},
   "outputs": [
    {
     "output_type": "execute_result",
     "data": {
      "text/plain": [
       "              UWI    SurfLat   SurfLong        TD, m       GL, m  \\\n",
       "0  42013301410000  28.690426 -98.470138  5982.919009  105.430317   \n",
       "1  42013301930000  28.779921 -98.208313  3284.219895  121.127516   \n",
       "2  42013302760000  28.994360 -98.421799  1880.006340  140.329916   \n",
       "3  42013305480000  28.759118 -98.156410  2498.750320  125.089916   \n",
       "4  42013310190000  28.817400 -98.155319  3352.799893  155.118811   \n",
       "5  42013311740000  28.819071 -98.151352  3339.388693  160.913059   \n",
       "6  42013312950000  28.927915 -98.577467  2022.957535  158.922715   \n",
       "7  42013313140000  28.694047 -98.765861  2612.745516  130.881116   \n",
       "8  42013313780000  28.851271 -98.771820  2221.382329  157.322515   \n",
       "9  42013325590000  28.987249 -98.701927  1610.258348  170.200315   \n",
       "\n",
       "   Depth subsea, m  Depth subsurface, m  TSC, h      BHT, C  \\\n",
       "0      3725.417881          3830.848197    5.50   61.666667   \n",
       "1      3168.700699          3289.828215   11.00  107.222222   \n",
       "2      1747.418344          1887.748260    5.50   65.555556   \n",
       "3      2379.268724          2504.358640    5.00   76.666667   \n",
       "4      3203.289401          3358.408213    7.75   98.888889   \n",
       "5      3151.775155          3312.688214    9.00  118.333333   \n",
       "6      1879.701540          2038.624255    3.00   62.777778   \n",
       "7      2484.729520          2615.610636    8.00   85.000000   \n",
       "8      1880.692140          2038.014655    7.00   65.000000   \n",
       "9       626.363980           796.564295    1.00   37.777778   \n",
       "\n",
       "   Synthetic Temp, C  Static Temp, C  True Temp, C     source  \n",
       "0         141.773056             NaN    141.773056  synthetic  \n",
       "1         132.005556         132.778    132.778000     static  \n",
       "2          88.974111             NaN     88.974111  synthetic  \n",
       "3         108.009111             NaN    108.009111  synthetic  \n",
       "4         133.797009             NaN    133.797009  synthetic  \n",
       "5         132.491486             NaN    132.491486  synthetic  \n",
       "6          93.000111             NaN     93.000111  synthetic  \n",
       "7         111.688222             NaN    111.688222  synthetic  \n",
       "8          93.658472             NaN     93.658472  synthetic  \n",
       "9          49.954444             NaN     49.954444  synthetic  "
      ],
      "text/html": "<div>\n<style scoped>\n    .dataframe tbody tr th:only-of-type {\n        vertical-align: middle;\n    }\n\n    .dataframe tbody tr th {\n        vertical-align: top;\n    }\n\n    .dataframe thead th {\n        text-align: right;\n    }\n</style>\n<table border=\"1\" class=\"dataframe\">\n  <thead>\n    <tr style=\"text-align: right;\">\n      <th></th>\n      <th>UWI</th>\n      <th>SurfLat</th>\n      <th>SurfLong</th>\n      <th>TD, m</th>\n      <th>GL, m</th>\n      <th>Depth subsea, m</th>\n      <th>Depth subsurface, m</th>\n      <th>TSC, h</th>\n      <th>BHT, C</th>\n      <th>Synthetic Temp, C</th>\n      <th>Static Temp, C</th>\n      <th>True Temp, C</th>\n      <th>source</th>\n    </tr>\n  </thead>\n  <tbody>\n    <tr>\n      <th>0</th>\n      <td>42013301410000</td>\n      <td>28.690426</td>\n      <td>-98.470138</td>\n      <td>5982.919009</td>\n      <td>105.430317</td>\n      <td>3725.417881</td>\n      <td>3830.848197</td>\n      <td>5.50</td>\n      <td>61.666667</td>\n      <td>141.773056</td>\n      <td>NaN</td>\n      <td>141.773056</td>\n      <td>synthetic</td>\n    </tr>\n    <tr>\n      <th>1</th>\n      <td>42013301930000</td>\n      <td>28.779921</td>\n      <td>-98.208313</td>\n      <td>3284.219895</td>\n      <td>121.127516</td>\n      <td>3168.700699</td>\n      <td>3289.828215</td>\n      <td>11.00</td>\n      <td>107.222222</td>\n      <td>132.005556</td>\n      <td>132.778</td>\n      <td>132.778000</td>\n      <td>static</td>\n    </tr>\n    <tr>\n      <th>2</th>\n      <td>42013302760000</td>\n      <td>28.994360</td>\n      <td>-98.421799</td>\n      <td>1880.006340</td>\n      <td>140.329916</td>\n      <td>1747.418344</td>\n      <td>1887.748260</td>\n      <td>5.50</td>\n      <td>65.555556</td>\n      <td>88.974111</td>\n      <td>NaN</td>\n      <td>88.974111</td>\n      <td>synthetic</td>\n    </tr>\n    <tr>\n      <th>3</th>\n      <td>42013305480000</td>\n      <td>28.759118</td>\n      <td>-98.156410</td>\n      <td>2498.750320</td>\n      <td>125.089916</td>\n      <td>2379.268724</td>\n      <td>2504.358640</td>\n      <td>5.00</td>\n      <td>76.666667</td>\n      <td>108.009111</td>\n      <td>NaN</td>\n      <td>108.009111</td>\n      <td>synthetic</td>\n    </tr>\n    <tr>\n      <th>4</th>\n      <td>42013310190000</td>\n      <td>28.817400</td>\n      <td>-98.155319</td>\n      <td>3352.799893</td>\n      <td>155.118811</td>\n      <td>3203.289401</td>\n      <td>3358.408213</td>\n      <td>7.75</td>\n      <td>98.888889</td>\n      <td>133.797009</td>\n      <td>NaN</td>\n      <td>133.797009</td>\n      <td>synthetic</td>\n    </tr>\n    <tr>\n      <th>5</th>\n      <td>42013311740000</td>\n      <td>28.819071</td>\n      <td>-98.151352</td>\n      <td>3339.388693</td>\n      <td>160.913059</td>\n      <td>3151.775155</td>\n      <td>3312.688214</td>\n      <td>9.00</td>\n      <td>118.333333</td>\n      <td>132.491486</td>\n      <td>NaN</td>\n      <td>132.491486</td>\n      <td>synthetic</td>\n    </tr>\n    <tr>\n      <th>6</th>\n      <td>42013312950000</td>\n      <td>28.927915</td>\n      <td>-98.577467</td>\n      <td>2022.957535</td>\n      <td>158.922715</td>\n      <td>1879.701540</td>\n      <td>2038.624255</td>\n      <td>3.00</td>\n      <td>62.777778</td>\n      <td>93.000111</td>\n      <td>NaN</td>\n      <td>93.000111</td>\n      <td>synthetic</td>\n    </tr>\n    <tr>\n      <th>7</th>\n      <td>42013313140000</td>\n      <td>28.694047</td>\n      <td>-98.765861</td>\n      <td>2612.745516</td>\n      <td>130.881116</td>\n      <td>2484.729520</td>\n      <td>2615.610636</td>\n      <td>8.00</td>\n      <td>85.000000</td>\n      <td>111.688222</td>\n      <td>NaN</td>\n      <td>111.688222</td>\n      <td>synthetic</td>\n    </tr>\n    <tr>\n      <th>8</th>\n      <td>42013313780000</td>\n      <td>28.851271</td>\n      <td>-98.771820</td>\n      <td>2221.382329</td>\n      <td>157.322515</td>\n      <td>1880.692140</td>\n      <td>2038.014655</td>\n      <td>7.00</td>\n      <td>65.000000</td>\n      <td>93.658472</td>\n      <td>NaN</td>\n      <td>93.658472</td>\n      <td>synthetic</td>\n    </tr>\n    <tr>\n      <th>9</th>\n      <td>42013325590000</td>\n      <td>28.987249</td>\n      <td>-98.701927</td>\n      <td>1610.258348</td>\n      <td>170.200315</td>\n      <td>626.363980</td>\n      <td>796.564295</td>\n      <td>1.00</td>\n      <td>37.777778</td>\n      <td>49.954444</td>\n      <td>NaN</td>\n      <td>49.954444</td>\n      <td>synthetic</td>\n    </tr>\n  </tbody>\n</table>\n</div>"
     },
     "metadata": {},
     "execution_count": 73
    }
   ],
   "source": [
    "EB4[\"True Temp, C\"] =  EB4[\"Static Temp, C\"].fillna(EB4['Synthetic Temp, C'])\n",
    "EB4[\"source\"] = np.NAN\n",
    "EB4.loc[EB4['Synthetic Temp, C'].notnull(), 'source'] = 'synthetic'\n",
    "EB4.loc[EB4['Static Temp, C'].notnull(), 'source'] = 'static'\n",
    "EB4.head(10)"
   ]
  },
  {
   "cell_type": "code",
   "execution_count": 78,
   "metadata": {},
   "outputs": [
    {
     "output_type": "execute_result",
     "data": {
      "text/plain": [
       "              UWI    SurfLat   SurfLong        TD, m       GL, m  \\\n",
       "0  42013301410000  28.690426 -98.470138  5982.919009  105.430317   \n",
       "1  42013301930000  28.779921 -98.208313  3284.219895  121.127516   \n",
       "2  42013302760000  28.994360 -98.421799  1880.006340  140.329916   \n",
       "3  42013305480000  28.759118 -98.156410  2498.750320  125.089916   \n",
       "4  42013310190000  28.817400 -98.155319  3352.799893  155.118811   \n",
       "\n",
       "   Depth subsea, m  Depth subsurface, m  TSC, h      BHT, C  \\\n",
       "0      3725.417881          3830.848197    5.50   61.666667   \n",
       "1      3168.700699          3289.828215   11.00  107.222222   \n",
       "2      1747.418344          1887.748260    5.50   65.555556   \n",
       "3      2379.268724          2504.358640    5.00   76.666667   \n",
       "4      3203.289401          3358.408213    7.75   98.888889   \n",
       "\n",
       "   Synthetic Temp, C  Static Temp, C  True Temp, C     source  label  \n",
       "0         141.773056             NaN    141.773056  synthetic  train  \n",
       "1         132.005556         132.778    132.778000     static  train  \n",
       "2          88.974111             NaN     88.974111  synthetic  train  \n",
       "3         108.009111             NaN    108.009111  synthetic  train  \n",
       "4         133.797009             NaN    133.797009  synthetic  train  "
      ],
      "text/html": "<div>\n<style scoped>\n    .dataframe tbody tr th:only-of-type {\n        vertical-align: middle;\n    }\n\n    .dataframe tbody tr th {\n        vertical-align: top;\n    }\n\n    .dataframe thead th {\n        text-align: right;\n    }\n</style>\n<table border=\"1\" class=\"dataframe\">\n  <thead>\n    <tr style=\"text-align: right;\">\n      <th></th>\n      <th>UWI</th>\n      <th>SurfLat</th>\n      <th>SurfLong</th>\n      <th>TD, m</th>\n      <th>GL, m</th>\n      <th>Depth subsea, m</th>\n      <th>Depth subsurface, m</th>\n      <th>TSC, h</th>\n      <th>BHT, C</th>\n      <th>Synthetic Temp, C</th>\n      <th>Static Temp, C</th>\n      <th>True Temp, C</th>\n      <th>source</th>\n      <th>label</th>\n    </tr>\n  </thead>\n  <tbody>\n    <tr>\n      <th>0</th>\n      <td>42013301410000</td>\n      <td>28.690426</td>\n      <td>-98.470138</td>\n      <td>5982.919009</td>\n      <td>105.430317</td>\n      <td>3725.417881</td>\n      <td>3830.848197</td>\n      <td>5.50</td>\n      <td>61.666667</td>\n      <td>141.773056</td>\n      <td>NaN</td>\n      <td>141.773056</td>\n      <td>synthetic</td>\n      <td>train</td>\n    </tr>\n    <tr>\n      <th>1</th>\n      <td>42013301930000</td>\n      <td>28.779921</td>\n      <td>-98.208313</td>\n      <td>3284.219895</td>\n      <td>121.127516</td>\n      <td>3168.700699</td>\n      <td>3289.828215</td>\n      <td>11.00</td>\n      <td>107.222222</td>\n      <td>132.005556</td>\n      <td>132.778</td>\n      <td>132.778000</td>\n      <td>static</td>\n      <td>train</td>\n    </tr>\n    <tr>\n      <th>2</th>\n      <td>42013302760000</td>\n      <td>28.994360</td>\n      <td>-98.421799</td>\n      <td>1880.006340</td>\n      <td>140.329916</td>\n      <td>1747.418344</td>\n      <td>1887.748260</td>\n      <td>5.50</td>\n      <td>65.555556</td>\n      <td>88.974111</td>\n      <td>NaN</td>\n      <td>88.974111</td>\n      <td>synthetic</td>\n      <td>train</td>\n    </tr>\n    <tr>\n      <th>3</th>\n      <td>42013305480000</td>\n      <td>28.759118</td>\n      <td>-98.156410</td>\n      <td>2498.750320</td>\n      <td>125.089916</td>\n      <td>2379.268724</td>\n      <td>2504.358640</td>\n      <td>5.00</td>\n      <td>76.666667</td>\n      <td>108.009111</td>\n      <td>NaN</td>\n      <td>108.009111</td>\n      <td>synthetic</td>\n      <td>train</td>\n    </tr>\n    <tr>\n      <th>4</th>\n      <td>42013310190000</td>\n      <td>28.817400</td>\n      <td>-98.155319</td>\n      <td>3352.799893</td>\n      <td>155.118811</td>\n      <td>3203.289401</td>\n      <td>3358.408213</td>\n      <td>7.75</td>\n      <td>98.888889</td>\n      <td>133.797009</td>\n      <td>NaN</td>\n      <td>133.797009</td>\n      <td>synthetic</td>\n      <td>train</td>\n    </tr>\n  </tbody>\n</table>\n</div>"
     },
     "metadata": {},
     "execution_count": 78
    }
   ],
   "source": [
    "EB4['label'] = 'not assigned'\n",
    "EB4.loc[EB4.UWI.isin(UWIs_test), 'label'] = 'test'\n",
    "EB4.loc[EB4.UWI.isin(UWIs_train), 'label'] = 'train'\n",
    "EB4.head()"
   ]
  },
  {
   "cell_type": "code",
   "execution_count": 79,
   "metadata": {},
   "outputs": [],
   "source": [
    "EB4.to_csv('tidy data/Eaglebine_Temperatures.csv', index=False)"
   ]
  },
  {
   "source": [
    "# 2 Duvernay"
   ],
   "cell_type": "markdown",
   "metadata": {}
  },
  {
   "source": [
    "## 2.1 Load temperature data"
   ],
   "cell_type": "markdown",
   "metadata": {}
  },
  {
   "cell_type": "code",
   "execution_count": 180,
   "metadata": {},
   "outputs": [],
   "source": [
    "DV = pd.read_excel('../data/Duvernay/Duvernay DST BHT for SPE April 20 2021.xlsx')\n",
    "DV_syn = pd.read_excel('../data/Duvernay/Duvenay TrueTemp_Train.xlsx')\n",
    "DV_TL = pd.read_csv('../data/Data_static_logs.csv')"
   ]
  },
  {
   "cell_type": "code",
   "execution_count": 181,
   "metadata": {},
   "outputs": [],
   "source": [
    "DV_TL['Depth, m'] = DV_TL['Depth (ft)'] / 3.28084\n",
    "\n",
    "#* add extra column \n",
    "DV['Depth subsea, m']= - (DV['elevation M above sea level'] - (DV['DST Start Depth (MD) (m)'] + DV['DST End Depth (MD) (m)'])/2)\n"
   ]
  },
  {
   "cell_type": "code",
   "execution_count": 182,
   "metadata": {},
   "outputs": [],
   "source": [
    "columns = ['UWI',\n",
    "        'Depth subsea, m',\n",
    "        'DST Bottom Hole Temp. (degC)',\n",
    "        'Formation DSTd',\n",
    "]\n",
    "\n",
    "DV2 = DV[columns]\n",
    "\n",
    "col_names = ['UWI',\n",
    "                'Depth subsea, m',\n",
    "                'BHT, C',\n",
    "                'Formation'\n",
    "                ]\n",
    "\n",
    "DV2.columns = col_names"
   ]
  },
  {
   "cell_type": "code",
   "execution_count": 183,
   "metadata": {},
   "outputs": [],
   "source": [
    "column_names = ['UWI',\n",
    "                'Depth subsea, m',\n",
    "                'Synthetic Temp, C',\n",
    "                ]\n",
    "\n",
    "DV_syn.columns = column_names"
   ]
  },
  {
   "cell_type": "code",
   "execution_count": 184,
   "metadata": {},
   "outputs": [],
   "source": [
    "\n",
    "column_names = ['UWI',\n",
    "                'Depth subsea, ft',\n",
    "                'Static Temp, C',\n",
    "                'Field',\n",
    "                'Depth subsea, m']\n",
    "\n",
    "DV_TL.columns = column_names\n",
    "\n"
   ]
  },
  {
   "cell_type": "code",
   "execution_count": 186,
   "metadata": {},
   "outputs": [],
   "source": [
    "DV2.UWI = DV2.UWI.astype('str');\n",
    "DV_syn.UWI = DV_syn.UWI.astype('str');\n",
    "DV_TL.UWI = DV_TL.UWI.astype('str');"
   ]
  },
  {
   "source": [
    "## 2.2 Add Synthetic and Static Temperatures"
   ],
   "cell_type": "markdown",
   "metadata": {}
  },
  {
   "cell_type": "code",
   "execution_count": 192,
   "metadata": {},
   "outputs": [
    {
     "output_type": "execute_result",
     "data": {
      "text/plain": [
       "                UWI  Depth subsea, m  BHT, C  Formation  Synthetic Temp, C\n",
       "0  100010107020W500            716.0   48.33  TRmontney              60.97\n",
       "1  100010608109W500           1044.4   34.26    Dmuskeg              63.98\n",
       "2  100010904012W500           2424.2  104.40    Melkton                NaN\n",
       "3  100011206021W400            171.9   29.00  Dwintrbrn              39.07\n",
       "4  100011506915W500            936.4   64.00   Dwabamun              69.47"
      ],
      "text/html": "<div>\n<style scoped>\n    .dataframe tbody tr th:only-of-type {\n        vertical-align: middle;\n    }\n\n    .dataframe tbody tr th {\n        vertical-align: top;\n    }\n\n    .dataframe thead th {\n        text-align: right;\n    }\n</style>\n<table border=\"1\" class=\"dataframe\">\n  <thead>\n    <tr style=\"text-align: right;\">\n      <th></th>\n      <th>UWI</th>\n      <th>Depth subsea, m</th>\n      <th>BHT, C</th>\n      <th>Formation</th>\n      <th>Synthetic Temp, C</th>\n    </tr>\n  </thead>\n  <tbody>\n    <tr>\n      <th>0</th>\n      <td>100010107020W500</td>\n      <td>716.0</td>\n      <td>48.33</td>\n      <td>TRmontney</td>\n      <td>60.97</td>\n    </tr>\n    <tr>\n      <th>1</th>\n      <td>100010608109W500</td>\n      <td>1044.4</td>\n      <td>34.26</td>\n      <td>Dmuskeg</td>\n      <td>63.98</td>\n    </tr>\n    <tr>\n      <th>2</th>\n      <td>100010904012W500</td>\n      <td>2424.2</td>\n      <td>104.40</td>\n      <td>Melkton</td>\n      <td>NaN</td>\n    </tr>\n    <tr>\n      <th>3</th>\n      <td>100011206021W400</td>\n      <td>171.9</td>\n      <td>29.00</td>\n      <td>Dwintrbrn</td>\n      <td>39.07</td>\n    </tr>\n    <tr>\n      <th>4</th>\n      <td>100011506915W500</td>\n      <td>936.4</td>\n      <td>64.00</td>\n      <td>Dwabamun</td>\n      <td>69.47</td>\n    </tr>\n  </tbody>\n</table>\n</div>"
     },
     "metadata": {},
     "execution_count": 192
    }
   ],
   "source": [
    "DV3 = get_synthetic_temp(DV2, DV_syn)\n",
    "DV3.head()"
   ]
  },
  {
   "cell_type": "code",
   "execution_count": 193,
   "metadata": {},
   "outputs": [
    {
     "output_type": "execute_result",
     "data": {
      "text/plain": [
       "                UWI  Depth subsea, m  BHT, C  Formation  Synthetic Temp, C  \\\n",
       "0  100010107020W500            716.0   48.33  TRmontney              60.97   \n",
       "1  100010608109W500           1044.4   34.26    Dmuskeg              63.98   \n",
       "2  100010904012W500           2424.2  104.40    Melkton                NaN   \n",
       "3  100011206021W400            171.9   29.00  Dwintrbrn              39.07   \n",
       "4  100011506915W500            936.4   64.00   Dwabamun              69.47   \n",
       "\n",
       "   Static Temp, C  \n",
       "0             NaN  \n",
       "1             NaN  \n",
       "2             NaN  \n",
       "3             NaN  \n",
       "4             NaN  "
      ],
      "text/html": "<div>\n<style scoped>\n    .dataframe tbody tr th:only-of-type {\n        vertical-align: middle;\n    }\n\n    .dataframe tbody tr th {\n        vertical-align: top;\n    }\n\n    .dataframe thead th {\n        text-align: right;\n    }\n</style>\n<table border=\"1\" class=\"dataframe\">\n  <thead>\n    <tr style=\"text-align: right;\">\n      <th></th>\n      <th>UWI</th>\n      <th>Depth subsea, m</th>\n      <th>BHT, C</th>\n      <th>Formation</th>\n      <th>Synthetic Temp, C</th>\n      <th>Static Temp, C</th>\n    </tr>\n  </thead>\n  <tbody>\n    <tr>\n      <th>0</th>\n      <td>100010107020W500</td>\n      <td>716.0</td>\n      <td>48.33</td>\n      <td>TRmontney</td>\n      <td>60.97</td>\n      <td>NaN</td>\n    </tr>\n    <tr>\n      <th>1</th>\n      <td>100010608109W500</td>\n      <td>1044.4</td>\n      <td>34.26</td>\n      <td>Dmuskeg</td>\n      <td>63.98</td>\n      <td>NaN</td>\n    </tr>\n    <tr>\n      <th>2</th>\n      <td>100010904012W500</td>\n      <td>2424.2</td>\n      <td>104.40</td>\n      <td>Melkton</td>\n      <td>NaN</td>\n      <td>NaN</td>\n    </tr>\n    <tr>\n      <th>3</th>\n      <td>100011206021W400</td>\n      <td>171.9</td>\n      <td>29.00</td>\n      <td>Dwintrbrn</td>\n      <td>39.07</td>\n      <td>NaN</td>\n    </tr>\n    <tr>\n      <th>4</th>\n      <td>100011506915W500</td>\n      <td>936.4</td>\n      <td>64.00</td>\n      <td>Dwabamun</td>\n      <td>69.47</td>\n      <td>NaN</td>\n    </tr>\n  </tbody>\n</table>\n</div>"
     },
     "metadata": {},
     "execution_count": 193
    }
   ],
   "source": [
    "DV4 = get_static_temp(DV3, DV_TL)\n",
    "DV4.head()"
   ]
  },
  {
   "cell_type": "code",
   "execution_count": 194,
   "metadata": {},
   "outputs": [],
   "source": [
    "DV4[\"True Temp, C\"] =  DV4[\"Static Temp, C\"].fillna(DV4['Synthetic Temp, C'])\n",
    "DV4[\"source\"] = np.NAN\n",
    "DV4.loc[~DV4['Synthetic Temp, C'].isnull(), 'source'] = 'synthetic'\n",
    "DV4.loc[~DV4['Static Temp, C'].isnull(), 'source'] = 'static'"
   ]
  },
  {
   "cell_type": "code",
   "execution_count": 196,
   "metadata": {},
   "outputs": [],
   "source": [
    "DV4['label'] = 'not assigned'\n",
    "DV4.loc[DV4.UWI.isin(UWIs_test), 'label'] = 'test'\n",
    "DV4.loc[DV4.UWI.isin(UWIs_train), 'label'] = 'train'"
   ]
  },
  {
   "cell_type": "code",
   "execution_count": 198,
   "metadata": {},
   "outputs": [],
   "source": [
    "DV4.to_csv('tidy data/Duvernay_Temperatures.csv', index=False)"
   ]
  },
  {
   "cell_type": "code",
   "execution_count": null,
   "metadata": {},
   "outputs": [],
   "source": []
  }
 ],
 "metadata": {
  "kernelspec": {
   "name": "gtx_env",
   "display_name": "gtx_env",
   "language": "python"
  },
  "language_info": {
   "codemirror_mode": {
    "name": "ipython",
    "version": 3
   },
   "file_extension": ".py",
   "mimetype": "text/x-python",
   "name": "python",
   "nbconvert_exporter": "python",
   "pygments_lexer": "ipython3",
   "version": "3.9.0"
  },
  "interpreter": {
   "hash": "1623ae180b50f22c69d9e2cb878edd5ce0d37973e0e1d0b10581911d53e99da0"
  }
 },
 "nbformat": 4,
 "nbformat_minor": 2
}