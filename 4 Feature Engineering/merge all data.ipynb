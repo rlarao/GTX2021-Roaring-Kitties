{
 "cells": [
  {
   "cell_type": "markdown",
   "metadata": {},
   "source": [
    "# Geothermal Datathon 2021\n",
    "---"
   ]
  },
  {
   "cell_type": "markdown",
   "metadata": {},
   "source": [
    "<img src=\"../figures/the_roaring_kitties_logo.png\" width=\"200\" align=\"center\">"
   ]
  },
  {
   "cell_type": "markdown",
   "metadata": {},
   "source": [
    "Team members:\n",
    "- **Ricardo Lara**\n",
    "- **Artur Davletshin**\n",
    "- **Aigul Akberova**\n",
    "- **Sercan Gul**\n",
    "- **Hakki Aydin**\n",
    "- **Jose Hernandez**\n",
    "\n",
    "\n",
    "---"
   ]
  },
  {
   "source": [
    "### Import Modules"
   ],
   "cell_type": "markdown",
   "metadata": {}
  },
  {
   "cell_type": "code",
   "execution_count": 22,
   "metadata": {},
   "outputs": [],
   "source": [
    "import pandas as pd\n",
    "import numpy as np\n",
    "import missingno as msno\n",
    "import matplotlib.pyplot as plt\n",
    "from sklearn.impute import KNNImputer\n",
    "from sklearn.preprocessing import MinMaxScaler\n",
    "import seaborn as sns\n",
    "from sklearn.experimental import enable_iterative_imputer\n",
    "from sklearn.impute import IterativeImputer"
   ]
  },
  {
   "source": [],
   "cell_type": "markdown",
   "metadata": {}
  },
  {
   "source": [
    "# 1 Eaglebine"
   ],
   "cell_type": "markdown",
   "metadata": {}
  },
  {
   "cell_type": "code",
   "execution_count": 29,
   "metadata": {},
   "outputs": [],
   "source": [
    "directory = \"../1 Data Exploration and Visualization/tidy data/\"\n",
    "EBt = pd.read_csv(directory + 'Eaglebine_Temperatures.csv')\n",
    "EBmisc = pd.read_csv(directory + 'Eaglebine Misc.csv')\n",
    "EBwl = pd.read_csv('imputed well logs/Eaglebine_imputed_well_logs.csv')"
   ]
  },
  {
   "cell_type": "code",
   "execution_count": 30,
   "metadata": {},
   "outputs": [],
   "source": [
    "EB = EBt.merge(EBmisc, on='UWI', how='left')"
   ]
  },
  {
   "cell_type": "code",
   "execution_count": 31,
   "metadata": {},
   "outputs": [],
   "source": [
    "EB2 = EB.merge(EBwl, on='UWI', how='left')"
   ]
  },
  {
   "cell_type": "code",
   "execution_count": 32,
   "metadata": {},
   "outputs": [
    {
     "output_type": "execute_result",
     "data": {
      "text/plain": [
       "              UWI    SurfLat   SurfLong      TD, m_x       GL, m  \\\n",
       "0  42013301410000  28.690426 -98.470138  5982.919009  105.430317   \n",
       "1  42013301930000  28.779921 -98.208313  3284.219895  121.127516   \n",
       "2  42013302760000  28.994360 -98.421799  1880.006340  140.329916   \n",
       "3  42013305480000  28.759118 -98.156410  2498.750320  125.089916   \n",
       "4  42013310190000  28.817400 -98.155319  3352.799893  155.118811   \n",
       "\n",
       "   Depth subsea, m  Depth subsurface, m  TSC, h      BHT, C  \\\n",
       "0      3725.417881          3830.848197    5.50   61.666667   \n",
       "1      3168.700699          3289.828215   11.00  107.222222   \n",
       "2      1747.418344          1887.748260    5.50   65.555556   \n",
       "3      2379.268724          2504.358640    5.00   76.666667   \n",
       "4      3203.289401          3358.408213    7.75   98.888889   \n",
       "\n",
       "   Synthetic Temp, C  ...     cumwater  Unnamed: 0         GR   NPHI_SS  \\\n",
       "0         141.773056  ...          NaN           0  28.919000  0.083307   \n",
       "1         132.005556  ...  1002330.677           1  70.178291  0.299055   \n",
       "2          88.974111  ...        0.000           2  22.447700  0.153019   \n",
       "3         108.009111  ...        0.000           3  38.467900  0.171462   \n",
       "4         133.797009  ...          NaN           4  25.944800  0.149961   \n",
       "\n",
       "    NPHI_LS   DPHI_SS   DPHI_LS      PEFZ    RHOB     CAL  \n",
       "0 -0.065809 -0.054688 -0.035348  4.951953  2.7783  6.0281  \n",
       "1  0.232384  0.194271  0.206172  4.846338  2.3503  7.0612  \n",
       "2  0.011500  0.004990 -0.009300  4.784638  2.7198  8.0507  \n",
       "3  0.044400  0.027966  0.030800  4.822343  2.6534  8.0486  \n",
       "4  0.011175 -0.014248  0.001377  4.893333  2.7101  7.5611  \n",
       "\n",
       "[5 rows x 43 columns]"
      ],
      "text/html": "<div>\n<style scoped>\n    .dataframe tbody tr th:only-of-type {\n        vertical-align: middle;\n    }\n\n    .dataframe tbody tr th {\n        vertical-align: top;\n    }\n\n    .dataframe thead th {\n        text-align: right;\n    }\n</style>\n<table border=\"1\" class=\"dataframe\">\n  <thead>\n    <tr style=\"text-align: right;\">\n      <th></th>\n      <th>UWI</th>\n      <th>SurfLat</th>\n      <th>SurfLong</th>\n      <th>TD, m_x</th>\n      <th>GL, m</th>\n      <th>Depth subsea, m</th>\n      <th>Depth subsurface, m</th>\n      <th>TSC, h</th>\n      <th>BHT, C</th>\n      <th>Synthetic Temp, C</th>\n      <th>...</th>\n      <th>cumwater</th>\n      <th>Unnamed: 0</th>\n      <th>GR</th>\n      <th>NPHI_SS</th>\n      <th>NPHI_LS</th>\n      <th>DPHI_SS</th>\n      <th>DPHI_LS</th>\n      <th>PEFZ</th>\n      <th>RHOB</th>\n      <th>CAL</th>\n    </tr>\n  </thead>\n  <tbody>\n    <tr>\n      <th>0</th>\n      <td>42013301410000</td>\n      <td>28.690426</td>\n      <td>-98.470138</td>\n      <td>5982.919009</td>\n      <td>105.430317</td>\n      <td>3725.417881</td>\n      <td>3830.848197</td>\n      <td>5.50</td>\n      <td>61.666667</td>\n      <td>141.773056</td>\n      <td>...</td>\n      <td>NaN</td>\n      <td>0</td>\n      <td>28.919000</td>\n      <td>0.083307</td>\n      <td>-0.065809</td>\n      <td>-0.054688</td>\n      <td>-0.035348</td>\n      <td>4.951953</td>\n      <td>2.7783</td>\n      <td>6.0281</td>\n    </tr>\n    <tr>\n      <th>1</th>\n      <td>42013301930000</td>\n      <td>28.779921</td>\n      <td>-98.208313</td>\n      <td>3284.219895</td>\n      <td>121.127516</td>\n      <td>3168.700699</td>\n      <td>3289.828215</td>\n      <td>11.00</td>\n      <td>107.222222</td>\n      <td>132.005556</td>\n      <td>...</td>\n      <td>1002330.677</td>\n      <td>1</td>\n      <td>70.178291</td>\n      <td>0.299055</td>\n      <td>0.232384</td>\n      <td>0.194271</td>\n      <td>0.206172</td>\n      <td>4.846338</td>\n      <td>2.3503</td>\n      <td>7.0612</td>\n    </tr>\n    <tr>\n      <th>2</th>\n      <td>42013302760000</td>\n      <td>28.994360</td>\n      <td>-98.421799</td>\n      <td>1880.006340</td>\n      <td>140.329916</td>\n      <td>1747.418344</td>\n      <td>1887.748260</td>\n      <td>5.50</td>\n      <td>65.555556</td>\n      <td>88.974111</td>\n      <td>...</td>\n      <td>0.000</td>\n      <td>2</td>\n      <td>22.447700</td>\n      <td>0.153019</td>\n      <td>0.011500</td>\n      <td>0.004990</td>\n      <td>-0.009300</td>\n      <td>4.784638</td>\n      <td>2.7198</td>\n      <td>8.0507</td>\n    </tr>\n    <tr>\n      <th>3</th>\n      <td>42013305480000</td>\n      <td>28.759118</td>\n      <td>-98.156410</td>\n      <td>2498.750320</td>\n      <td>125.089916</td>\n      <td>2379.268724</td>\n      <td>2504.358640</td>\n      <td>5.00</td>\n      <td>76.666667</td>\n      <td>108.009111</td>\n      <td>...</td>\n      <td>0.000</td>\n      <td>3</td>\n      <td>38.467900</td>\n      <td>0.171462</td>\n      <td>0.044400</td>\n      <td>0.027966</td>\n      <td>0.030800</td>\n      <td>4.822343</td>\n      <td>2.6534</td>\n      <td>8.0486</td>\n    </tr>\n    <tr>\n      <th>4</th>\n      <td>42013310190000</td>\n      <td>28.817400</td>\n      <td>-98.155319</td>\n      <td>3352.799893</td>\n      <td>155.118811</td>\n      <td>3203.289401</td>\n      <td>3358.408213</td>\n      <td>7.75</td>\n      <td>98.888889</td>\n      <td>133.797009</td>\n      <td>...</td>\n      <td>NaN</td>\n      <td>4</td>\n      <td>25.944800</td>\n      <td>0.149961</td>\n      <td>0.011175</td>\n      <td>-0.014248</td>\n      <td>0.001377</td>\n      <td>4.893333</td>\n      <td>2.7101</td>\n      <td>7.5611</td>\n    </tr>\n  </tbody>\n</table>\n<p>5 rows × 43 columns</p>\n</div>"
     },
     "metadata": {},
     "execution_count": 32
    }
   ],
   "source": [
    "EB2.head()"
   ]
  },
  {
   "cell_type": "code",
   "execution_count": 37,
   "metadata": {},
   "outputs": [
    {
     "output_type": "execute_result",
     "data": {
      "text/plain": [
       "              UWI    SurfLat   SurfLong      TD, m_x       GL, m  \\\n",
       "0  42013301410000  28.690426 -98.470138  5982.919009  105.430317   \n",
       "1  42013301930000  28.779921 -98.208313  3284.219895  121.127516   \n",
       "2  42013302760000  28.994360 -98.421799  1880.006340  140.329916   \n",
       "3  42013305480000  28.759118 -98.156410  2498.750320  125.089916   \n",
       "4  42013310190000  28.817400 -98.155319  3352.799893  155.118811   \n",
       "\n",
       "   Depth subsea, m  Depth subsurface, m  TSC, h      BHT, C  \\\n",
       "0      3725.417881          3830.848197    5.50   61.666667   \n",
       "1      3168.700699          3289.828215   11.00  107.222222   \n",
       "2      1747.418344          1887.748260    5.50   65.555556   \n",
       "3      2379.268724          2504.358640    5.00   76.666667   \n",
       "4      3203.289401          3358.408213    7.75   98.888889   \n",
       "\n",
       "   Synthetic Temp, C  ...       cumgas     cumwater         GR   NPHI_SS  \\\n",
       "0         141.773056  ...          NaN          NaN  28.919000  0.083307   \n",
       "1         132.005556  ...  8702967.000  1002330.677  70.178291  0.299055   \n",
       "2          88.974111  ...        7.992        0.000  22.447700  0.153019   \n",
       "3         108.009111  ...    10067.000        0.000  38.467900  0.171462   \n",
       "4         133.797009  ...          NaN          NaN  25.944800  0.149961   \n",
       "\n",
       "    NPHI_LS   DPHI_SS   DPHI_LS      PEFZ    RHOB     CAL  \n",
       "0 -0.065809 -0.054688 -0.035348  4.951953  2.7783  6.0281  \n",
       "1  0.232384  0.194271  0.206172  4.846338  2.3503  7.0612  \n",
       "2  0.011500  0.004990 -0.009300  4.784638  2.7198  8.0507  \n",
       "3  0.044400  0.027966  0.030800  4.822343  2.6534  8.0486  \n",
       "4  0.011175 -0.014248  0.001377  4.893333  2.7101  7.5611  \n",
       "\n",
       "[5 rows x 42 columns]"
      ],
      "text/html": "<div>\n<style scoped>\n    .dataframe tbody tr th:only-of-type {\n        vertical-align: middle;\n    }\n\n    .dataframe tbody tr th {\n        vertical-align: top;\n    }\n\n    .dataframe thead th {\n        text-align: right;\n    }\n</style>\n<table border=\"1\" class=\"dataframe\">\n  <thead>\n    <tr style=\"text-align: right;\">\n      <th></th>\n      <th>UWI</th>\n      <th>SurfLat</th>\n      <th>SurfLong</th>\n      <th>TD, m_x</th>\n      <th>GL, m</th>\n      <th>Depth subsea, m</th>\n      <th>Depth subsurface, m</th>\n      <th>TSC, h</th>\n      <th>BHT, C</th>\n      <th>Synthetic Temp, C</th>\n      <th>...</th>\n      <th>cumgas</th>\n      <th>cumwater</th>\n      <th>GR</th>\n      <th>NPHI_SS</th>\n      <th>NPHI_LS</th>\n      <th>DPHI_SS</th>\n      <th>DPHI_LS</th>\n      <th>PEFZ</th>\n      <th>RHOB</th>\n      <th>CAL</th>\n    </tr>\n  </thead>\n  <tbody>\n    <tr>\n      <th>0</th>\n      <td>42013301410000</td>\n      <td>28.690426</td>\n      <td>-98.470138</td>\n      <td>5982.919009</td>\n      <td>105.430317</td>\n      <td>3725.417881</td>\n      <td>3830.848197</td>\n      <td>5.50</td>\n      <td>61.666667</td>\n      <td>141.773056</td>\n      <td>...</td>\n      <td>NaN</td>\n      <td>NaN</td>\n      <td>28.919000</td>\n      <td>0.083307</td>\n      <td>-0.065809</td>\n      <td>-0.054688</td>\n      <td>-0.035348</td>\n      <td>4.951953</td>\n      <td>2.7783</td>\n      <td>6.0281</td>\n    </tr>\n    <tr>\n      <th>1</th>\n      <td>42013301930000</td>\n      <td>28.779921</td>\n      <td>-98.208313</td>\n      <td>3284.219895</td>\n      <td>121.127516</td>\n      <td>3168.700699</td>\n      <td>3289.828215</td>\n      <td>11.00</td>\n      <td>107.222222</td>\n      <td>132.005556</td>\n      <td>...</td>\n      <td>8702967.000</td>\n      <td>1002330.677</td>\n      <td>70.178291</td>\n      <td>0.299055</td>\n      <td>0.232384</td>\n      <td>0.194271</td>\n      <td>0.206172</td>\n      <td>4.846338</td>\n      <td>2.3503</td>\n      <td>7.0612</td>\n    </tr>\n    <tr>\n      <th>2</th>\n      <td>42013302760000</td>\n      <td>28.994360</td>\n      <td>-98.421799</td>\n      <td>1880.006340</td>\n      <td>140.329916</td>\n      <td>1747.418344</td>\n      <td>1887.748260</td>\n      <td>5.50</td>\n      <td>65.555556</td>\n      <td>88.974111</td>\n      <td>...</td>\n      <td>7.992</td>\n      <td>0.000</td>\n      <td>22.447700</td>\n      <td>0.153019</td>\n      <td>0.011500</td>\n      <td>0.004990</td>\n      <td>-0.009300</td>\n      <td>4.784638</td>\n      <td>2.7198</td>\n      <td>8.0507</td>\n    </tr>\n    <tr>\n      <th>3</th>\n      <td>42013305480000</td>\n      <td>28.759118</td>\n      <td>-98.156410</td>\n      <td>2498.750320</td>\n      <td>125.089916</td>\n      <td>2379.268724</td>\n      <td>2504.358640</td>\n      <td>5.00</td>\n      <td>76.666667</td>\n      <td>108.009111</td>\n      <td>...</td>\n      <td>10067.000</td>\n      <td>0.000</td>\n      <td>38.467900</td>\n      <td>0.171462</td>\n      <td>0.044400</td>\n      <td>0.027966</td>\n      <td>0.030800</td>\n      <td>4.822343</td>\n      <td>2.6534</td>\n      <td>8.0486</td>\n    </tr>\n    <tr>\n      <th>4</th>\n      <td>42013310190000</td>\n      <td>28.817400</td>\n      <td>-98.155319</td>\n      <td>3352.799893</td>\n      <td>155.118811</td>\n      <td>3203.289401</td>\n      <td>3358.408213</td>\n      <td>7.75</td>\n      <td>98.888889</td>\n      <td>133.797009</td>\n      <td>...</td>\n      <td>NaN</td>\n      <td>NaN</td>\n      <td>25.944800</td>\n      <td>0.149961</td>\n      <td>0.011175</td>\n      <td>-0.014248</td>\n      <td>0.001377</td>\n      <td>4.893333</td>\n      <td>2.7101</td>\n      <td>7.5611</td>\n    </tr>\n  </tbody>\n</table>\n<p>5 rows × 42 columns</p>\n</div>"
     },
     "metadata": {},
     "execution_count": 37
    }
   ],
   "source": [
    "EB2.columns.str.match(\"Unnamed\")\n",
    "EB3 = EB2.loc[:,~EB2.columns.str.match(\"Unnamed\")]\n",
    "EB3.head()"
   ]
  },
  {
   "cell_type": "code",
   "execution_count": 34,
   "metadata": {},
   "outputs": [
    {
     "output_type": "execute_result",
     "data": {
      "text/plain": [
       "Index(['UWI', 'SurfLat', 'SurfLong', 'TD, m_x', 'GL, m', 'Depth subsea, m',\n",
       "       'Depth subsurface, m', 'TSC, h', 'BHT, C', 'Synthetic Temp, C',\n",
       "       'Static Temp, C', 'True Temp, C', 'source', 'label',\n",
       "       'SurfaceLatitude_NAD27', 'SurfaceLongitude_NAD27',\n",
       "       'BottomLatitude_NAD27', 'BottomLongitude_NAD27', 'oil total cum, bbl',\n",
       "       'gas total cum, mcf', 'water total cum, bbl', 'gor total average',\n",
       "       'gas maximum, mcf', 'oil maximum, bbl', 'water maximum, bbl', 'status',\n",
       "       'Mud Wt', 'TD, m_y', 'MW at Depth(KB), m', 'KB, m',\n",
       "       'Min casing size, in', 'cumoil', 'cumgas', 'cumwater', 'GR', 'NPHI_SS',\n",
       "       'NPHI_LS', 'DPHI_SS', 'DPHI_LS', 'PEFZ', 'RHOB', 'CAL'],\n",
       "      dtype='object')"
      ]
     },
     "metadata": {},
     "execution_count": 34
    }
   ],
   "source": [
    "EB3.columns"
   ]
  },
  {
   "cell_type": "code",
   "execution_count": 16,
   "metadata": {},
   "outputs": [],
   "source": [
    "EB3.to_csv('merged data/Eaglebine_merged.csv')"
   ]
  },
  {
   "source": [
    "# Duvernay"
   ],
   "cell_type": "markdown",
   "metadata": {}
  },
  {
   "cell_type": "code",
   "execution_count": 17,
   "metadata": {},
   "outputs": [],
   "source": [
    "directory = \"../1 Data Exploration and Visualization/tidy data/\"\n",
    "DVt = pd.read_csv(directory + 'Duvernay_Temperatures.csv')\n",
    "DVmisc = pd.read_csv(directory + 'Duvernay Misc.csv')\n",
    "DVwl = pd.read_csv('imputed well logs/Duvernay_imputed_well_logs.csv')"
   ]
  },
  {
   "cell_type": "code",
   "execution_count": 18,
   "metadata": {},
   "outputs": [
    {
     "output_type": "execute_result",
     "data": {
      "text/plain": [
       "                UWI  Depth subsea, m  BHT, C  Formation  Synthetic Temp, C  \\\n",
       "0  100010107020W500            716.0   48.33  TRmontney              60.97   \n",
       "1  100010608109W500           1044.4   34.26    Dmuskeg              63.98   \n",
       "2  100010904012W500           2424.2  104.40    Melkton                NaN   \n",
       "3  100011206021W400            171.9   29.00  Dwintrbrn              39.07   \n",
       "4  100011506915W500            936.4   64.00   Dwabamun              69.47   \n",
       "\n",
       "   Static Temp, C  True Temp, C     source         label  \\\n",
       "0             NaN         60.97  synthetic         train   \n",
       "1             NaN         63.98  synthetic         train   \n",
       "2             NaN           NaN        NaN  not assigned   \n",
       "3             NaN         39.07  synthetic         train   \n",
       "4             NaN         69.47  synthetic         train   \n",
       "\n",
       "   SurfaceLatitude_NAD27  ...  Maximum Shut-in Pressure, kPa  \\\n",
       "0              55.027981  ...                        12858.7   \n",
       "1              55.987511  ...                        10782.0   \n",
       "2              52.424180  ...                        47675.0   \n",
       "3              54.167413  ...                         5317.0   \n",
       "4              54.969037  ...                        13781.0   \n",
       "\n",
       "   Final Hydrostatic Pressure, kPa        GR   NPHI_SS   NPHI_LS   DPHI_SS  \\\n",
       "0                         15899.31   1.14200  0.126523  0.056289  0.059455   \n",
       "1                         18137.00  21.87750  0.111200 -0.001340 -0.086958   \n",
       "2                              NaN  42.45040  0.149962  0.057600 -0.094885   \n",
       "3                          6603.00  28.45550  0.274898  0.159300  0.051155   \n",
       "4                         20357.00   5.14509  0.175245  0.112700  0.205905   \n",
       "\n",
       "    DPHI_LS      PEFZ         RHOB       CAL  \n",
       "0  0.079798  3.587307    30.175647    7.5523  \n",
       "1 -0.092600  4.162300  2873.401100  206.7875  \n",
       "2 -0.082800  4.707043  2851.595500  211.8617  \n",
       "3  0.070900  3.504784  2614.128200  202.6417  \n",
       "4  0.195500  1.867400  2374.466300  207.7325  \n",
       "\n",
       "[5 rows x 38 columns]"
      ],
      "text/html": "<div>\n<style scoped>\n    .dataframe tbody tr th:only-of-type {\n        vertical-align: middle;\n    }\n\n    .dataframe tbody tr th {\n        vertical-align: top;\n    }\n\n    .dataframe thead th {\n        text-align: right;\n    }\n</style>\n<table border=\"1\" class=\"dataframe\">\n  <thead>\n    <tr style=\"text-align: right;\">\n      <th></th>\n      <th>UWI</th>\n      <th>Depth subsea, m</th>\n      <th>BHT, C</th>\n      <th>Formation</th>\n      <th>Synthetic Temp, C</th>\n      <th>Static Temp, C</th>\n      <th>True Temp, C</th>\n      <th>source</th>\n      <th>label</th>\n      <th>SurfaceLatitude_NAD27</th>\n      <th>...</th>\n      <th>Maximum Shut-in Pressure, kPa</th>\n      <th>Final Hydrostatic Pressure, kPa</th>\n      <th>GR</th>\n      <th>NPHI_SS</th>\n      <th>NPHI_LS</th>\n      <th>DPHI_SS</th>\n      <th>DPHI_LS</th>\n      <th>PEFZ</th>\n      <th>RHOB</th>\n      <th>CAL</th>\n    </tr>\n  </thead>\n  <tbody>\n    <tr>\n      <th>0</th>\n      <td>100010107020W500</td>\n      <td>716.0</td>\n      <td>48.33</td>\n      <td>TRmontney</td>\n      <td>60.97</td>\n      <td>NaN</td>\n      <td>60.97</td>\n      <td>synthetic</td>\n      <td>train</td>\n      <td>55.027981</td>\n      <td>...</td>\n      <td>12858.7</td>\n      <td>15899.31</td>\n      <td>1.14200</td>\n      <td>0.126523</td>\n      <td>0.056289</td>\n      <td>0.059455</td>\n      <td>0.079798</td>\n      <td>3.587307</td>\n      <td>30.175647</td>\n      <td>7.5523</td>\n    </tr>\n    <tr>\n      <th>1</th>\n      <td>100010608109W500</td>\n      <td>1044.4</td>\n      <td>34.26</td>\n      <td>Dmuskeg</td>\n      <td>63.98</td>\n      <td>NaN</td>\n      <td>63.98</td>\n      <td>synthetic</td>\n      <td>train</td>\n      <td>55.987511</td>\n      <td>...</td>\n      <td>10782.0</td>\n      <td>18137.00</td>\n      <td>21.87750</td>\n      <td>0.111200</td>\n      <td>-0.001340</td>\n      <td>-0.086958</td>\n      <td>-0.092600</td>\n      <td>4.162300</td>\n      <td>2873.401100</td>\n      <td>206.7875</td>\n    </tr>\n    <tr>\n      <th>2</th>\n      <td>100010904012W500</td>\n      <td>2424.2</td>\n      <td>104.40</td>\n      <td>Melkton</td>\n      <td>NaN</td>\n      <td>NaN</td>\n      <td>NaN</td>\n      <td>NaN</td>\n      <td>not assigned</td>\n      <td>52.424180</td>\n      <td>...</td>\n      <td>47675.0</td>\n      <td>NaN</td>\n      <td>42.45040</td>\n      <td>0.149962</td>\n      <td>0.057600</td>\n      <td>-0.094885</td>\n      <td>-0.082800</td>\n      <td>4.707043</td>\n      <td>2851.595500</td>\n      <td>211.8617</td>\n    </tr>\n    <tr>\n      <th>3</th>\n      <td>100011206021W400</td>\n      <td>171.9</td>\n      <td>29.00</td>\n      <td>Dwintrbrn</td>\n      <td>39.07</td>\n      <td>NaN</td>\n      <td>39.07</td>\n      <td>synthetic</td>\n      <td>train</td>\n      <td>54.167413</td>\n      <td>...</td>\n      <td>5317.0</td>\n      <td>6603.00</td>\n      <td>28.45550</td>\n      <td>0.274898</td>\n      <td>0.159300</td>\n      <td>0.051155</td>\n      <td>0.070900</td>\n      <td>3.504784</td>\n      <td>2614.128200</td>\n      <td>202.6417</td>\n    </tr>\n    <tr>\n      <th>4</th>\n      <td>100011506915W500</td>\n      <td>936.4</td>\n      <td>64.00</td>\n      <td>Dwabamun</td>\n      <td>69.47</td>\n      <td>NaN</td>\n      <td>69.47</td>\n      <td>synthetic</td>\n      <td>train</td>\n      <td>54.969037</td>\n      <td>...</td>\n      <td>13781.0</td>\n      <td>20357.00</td>\n      <td>5.14509</td>\n      <td>0.175245</td>\n      <td>0.112700</td>\n      <td>0.205905</td>\n      <td>0.195500</td>\n      <td>1.867400</td>\n      <td>2374.466300</td>\n      <td>207.7325</td>\n    </tr>\n  </tbody>\n</table>\n<p>5 rows × 38 columns</p>\n</div>"
     },
     "metadata": {},
     "execution_count": 18
    }
   ],
   "source": [
    "DV = DVt.merge(DVmisc, on='UWI', how='left')\n",
    "DV2 = DV.merge(DVwl, on='UWI', how='left')\n",
    "\n",
    "DV2.columns.str.match(\"Unnamed\")\n",
    "DV3 = DV2.loc[:,~DV2.columns.str.match(\"Unnamed\")]\n",
    "DV3.head()"
   ]
  },
  {
   "cell_type": "code",
   "execution_count": 20,
   "metadata": {},
   "outputs": [],
   "source": [
    "DV3.to_csv('merged data/Duvernay_merged.csv')"
   ]
  },
  {
   "source": [
    "# Impute missing data"
   ],
   "cell_type": "markdown",
   "metadata": {}
  },
  {
   "cell_type": "code",
   "execution_count": 21,
   "metadata": {},
   "outputs": [],
   "source": [
    "def iterative_imputer(df_original, columns):\n",
    "    df = df_original[columns].copy(deep=True)\n",
    "    imputer = IterativeImputer(random_state=42)\n",
    "    \n",
    "    df = pd.DataFrame(imputer.fit_transform(df), columns =df.columns)\n",
    "\n",
    "    df2 = df_original.copy(deep=True)\n",
    "    df2[columns] = df.values\n",
    "    return df2"
   ]
  },
  {
   "cell_type": "code",
   "execution_count": 38,
   "metadata": {},
   "outputs": [
    {
     "output_type": "execute_result",
     "data": {
      "text/plain": [
       "UWI                         0\n",
       "SurfLat                     0\n",
       "SurfLong                    0\n",
       "TD, m_x                     0\n",
       "GL, m                       0\n",
       "Depth subsea, m             0\n",
       "Depth subsurface, m         0\n",
       "TSC, h                      0\n",
       "BHT, C                      0\n",
       "Synthetic Temp, C          81\n",
       "Static Temp, C            305\n",
       "True Temp, C               81\n",
       "source                     81\n",
       "label                       0\n",
       "SurfaceLatitude_NAD27      16\n",
       "SurfaceLongitude_NAD27     16\n",
       "BottomLatitude_NAD27       16\n",
       "BottomLongitude_NAD27      16\n",
       "oil total cum, bbl         78\n",
       "gas total cum, mcf         78\n",
       "water total cum, bbl       78\n",
       "gor total average          86\n",
       "gas maximum, mcf           78\n",
       "oil maximum, bbl           78\n",
       "water maximum, bbl         78\n",
       "status                     16\n",
       "Mud Wt                      8\n",
       "TD, m_y                     8\n",
       "MW at Depth(KB), m          8\n",
       "KB, m                       8\n",
       "Min casing size, in        57\n",
       "cumoil                     74\n",
       "cumgas                     74\n",
       "cumwater                   74\n",
       "GR                          0\n",
       "NPHI_SS                     0\n",
       "NPHI_LS                     0\n",
       "DPHI_SS                     0\n",
       "DPHI_LS                     0\n",
       "PEFZ                        0\n",
       "RHOB                        0\n",
       "CAL                         0\n",
       "dtype: int64"
      ]
     },
     "metadata": {},
     "execution_count": 38
    }
   ],
   "source": [
    "EB3.isnull().sum()"
   ]
  },
  {
   "cell_type": "code",
   "execution_count": 39,
   "metadata": {},
   "outputs": [],
   "source": [
    "cols = ['TD, m_x',\n",
    "'GL, m',\n",
    "'SurfLat',                     \n",
    "'SurfLong',               \n",
    "'SurfaceLatitude_NAD27',  \n",
    "'SurfaceLongitude_NAD27', \n",
    "'BottomLatitude_NAD27',   \n",
    "'BottomLongitude_NAD27',  ]\n",
    "\n",
    "EB4 = iterative_imputer(EB3, cols)"
   ]
  },
  {
   "cell_type": "code",
   "execution_count": 44,
   "metadata": {},
   "outputs": [],
   "source": [
    "cols = [\n",
    "'TD, m_x',                    \n",
    "'BottomLatitude_NAD27',       \n",
    "'BottomLongitude_NAD27',      \n",
    "'oil total cum, bbl',         \n",
    "'gas total cum, mcf',         \n",
    "'water total cum, bbl',       \n",
    "'gor total average',          \n",
    "'gas maximum, mcf',           \n",
    "'oil maximum, bbl',           \n",
    "'water maximum, bbl',         \n",
    "'cumoil',                     \n",
    "'cumgas',                     \n",
    "'cumwater',                   \n",
    "]\n",
    "\n",
    "EB5 = iterative_imputer(EB4, cols)"
   ]
  },
  {
   "cell_type": "code",
   "execution_count": 45,
   "metadata": {},
   "outputs": [],
   "source": [
    "cols = [\n",
    "'TD, m_x',\n",
    "'CAL',\n",
    "'Min casing size, in'\n",
    "]\n",
    "\n",
    "EB6 = iterative_imputer(EB5, cols)"
   ]
  },
  {
   "cell_type": "code",
   "execution_count": 46,
   "metadata": {},
   "outputs": [],
   "source": [
    "cols = [\n",
    "'TD, m_x',                    \n",
    "'BottomLatitude_NAD27',       \n",
    "'BottomLongitude_NAD27',      \n",
    "'Mud Wt',                      \n",
    "'MW at Depth(KB), m',                   \n",
    "]\n",
    "\n",
    "EB7 = iterative_imputer(EB6, cols)"
   ]
  },
  {
   "cell_type": "code",
   "execution_count": 58,
   "metadata": {},
   "outputs": [
    {
     "output_type": "execute_result",
     "data": {
      "text/plain": [
       "['UWI',\n",
       " 'SurfLat',\n",
       " 'SurfLong',\n",
       " 'TD, m_x',\n",
       " 'GL, m',\n",
       " 'Depth subsea, m',\n",
       " 'Depth subsurface, m',\n",
       " 'TSC, h',\n",
       " 'BHT, C',\n",
       " 'Synthetic Temp, C',\n",
       " 'Static Temp, C',\n",
       " 'True Temp, C',\n",
       " 'source',\n",
       " 'label',\n",
       " 'SurfaceLatitude_NAD27',\n",
       " 'SurfaceLongitude_NAD27',\n",
       " 'BottomLatitude_NAD27',\n",
       " 'BottomLongitude_NAD27',\n",
       " 'oil total cum, bbl',\n",
       " 'gas total cum, mcf',\n",
       " 'water total cum, bbl',\n",
       " 'gor total average',\n",
       " 'gas maximum, mcf',\n",
       " 'oil maximum, bbl',\n",
       " 'water maximum, bbl',\n",
       " 'status',\n",
       " 'Mud Wt',\n",
       " 'TD, m_y',\n",
       " 'MW at Depth(KB), m',\n",
       " 'KB, m',\n",
       " 'Min casing size, in',\n",
       " 'cumoil',\n",
       " 'cumgas',\n",
       " 'cumwater',\n",
       " 'GR',\n",
       " 'NPHI_SS',\n",
       " 'NPHI_LS',\n",
       " 'DPHI_SS',\n",
       " 'DPHI_LS',\n",
       " 'PEFZ',\n",
       " 'RHOB',\n",
       " 'CAL']"
      ]
     },
     "metadata": {},
     "execution_count": 58
    }
   ],
   "source": [
    "EB7.columns.to_list()"
   ]
  },
  {
   "cell_type": "code",
   "execution_count": null,
   "metadata": {},
   "outputs": [],
   "source": []
  },
  {
   "source": [
    "# 1 Duvernay"
   ],
   "cell_type": "markdown",
   "metadata": {}
  },
  {
   "cell_type": "code",
   "execution_count": 48,
   "metadata": {},
   "outputs": [
    {
     "output_type": "execute_result",
     "data": {
      "text/plain": [
       "UWI                                  0\n",
       "Depth subsea, m                      0\n",
       "BHT, C                               0\n",
       "Formation                            0\n",
       "Synthetic Temp, C                  140\n",
       "Static Temp, C                     490\n",
       "True Temp, C                       140\n",
       "source                             140\n",
       "label                                0\n",
       "SurfaceLatitude_NAD27                0\n",
       "SurfaceLongitude_NAD27               0\n",
       "BottomLatitude_NAD27                 0\n",
       "BottomLongitude_NAD27                0\n",
       "oil total cum, bbl                 357\n",
       "gas total cum, mcf                 357\n",
       "water total cum, bbl               357\n",
       "gor total average                  372\n",
       "gas maximum, mcf                   357\n",
       "oil maximum, bbl                   357\n",
       "water maximum, bbl                 357\n",
       "yield total average                359\n",
       "status                               0\n",
       "Start TVD, m                       479\n",
       "End TVD, m                         479\n",
       "Start MD, m                         30\n",
       "End MD, m                           30\n",
       "Pressure Recorder Depth, m          30\n",
       "DST BHT, C                         129\n",
       "Maximum Shut-in Pressure, kPa       41\n",
       "Final Hydrostatic Pressure, kPa     60\n",
       "dtype: int64"
      ]
     },
     "metadata": {},
     "execution_count": 48
    }
   ],
   "source": [
    "DV.isnull().sum()"
   ]
  },
  {
   "cell_type": "code",
   "execution_count": 49,
   "metadata": {},
   "outputs": [
    {
     "output_type": "execute_result",
     "data": {
      "text/plain": [
       "UWI                                  0\n",
       "Depth subsea, m                      0\n",
       "BHT, C                               0\n",
       "Formation                            0\n",
       "Synthetic Temp, C                  140\n",
       "Static Temp, C                     490\n",
       "True Temp, C                       140\n",
       "source                             140\n",
       "label                                0\n",
       "SurfaceLatitude_NAD27                0\n",
       "SurfaceLongitude_NAD27               0\n",
       "BottomLatitude_NAD27                 0\n",
       "BottomLongitude_NAD27                0\n",
       "oil total cum, bbl                 357\n",
       "gas total cum, mcf                 357\n",
       "water total cum, bbl               357\n",
       "gor total average                  372\n",
       "gas maximum, mcf                   357\n",
       "oil maximum, bbl                   357\n",
       "water maximum, bbl                 357\n",
       "yield total average                359\n",
       "status                               0\n",
       "Start TVD, m                       479\n",
       "End TVD, m                         479\n",
       "Start MD, m                         30\n",
       "End MD, m                           30\n",
       "Pressure Recorder Depth, m          30\n",
       "DST BHT, C                         129\n",
       "Maximum Shut-in Pressure, kPa       41\n",
       "Final Hydrostatic Pressure, kPa     60\n",
       "dtype: int64"
      ]
     },
     "metadata": {},
     "execution_count": 49
    }
   ],
   "source": [
    "DV.isnull().sum()"
   ]
  },
  {
   "cell_type": "code",
   "execution_count": 52,
   "metadata": {},
   "outputs": [],
   "source": [
    "cols = [\n",
    "'Depth subsea, m',                    \n",
    "'BottomLatitude_NAD27',       \n",
    "'BottomLongitude_NAD27',      \n",
    "'oil total cum, bbl',         \n",
    "'gas total cum, mcf',         \n",
    "'water total cum, bbl',       \n",
    "'gor total average',          \n",
    "'gas maximum, mcf',           \n",
    "'oil maximum, bbl',           \n",
    "'water maximum, bbl',         \n",
    "'yield total average',\n",
    "'Maximum Shut-in Pressure, kPa'                  \n",
    "]\n",
    "\n",
    "DV2 = iterative_imputer(DV, cols)"
   ]
  },
  {
   "cell_type": "code",
   "execution_count": 54,
   "metadata": {},
   "outputs": [],
   "source": [
    "DV2['DST BHT, C'].mask(DV2['DST BHT, C'].isnull(), DV2['BHT, C'], inplace=True)\n"
   ]
  },
  {
   "cell_type": "code",
   "execution_count": 56,
   "metadata": {},
   "outputs": [],
   "source": [
    "DV3 = DV2.drop([\n",
    "'Start TVD, m',\n",
    "'End TVD, m', \n",
    "'Start MD, m',\n",
    "'End MD, m',\n",
    "'Pressure Recorder Depth, m',\n",
    "'Final Hydrostatic Pressure, kPa'    ], axis=1)"
   ]
  },
  {
   "cell_type": "code",
   "execution_count": 57,
   "metadata": {},
   "outputs": [],
   "source": [
    "DV3.to_csv('merged data/Duvernay_merged.csv', index=False)"
   ]
  },
  {
   "cell_type": "code",
   "execution_count": null,
   "metadata": {},
   "outputs": [],
   "source": []
  }
 ],
 "metadata": {
  "kernelspec": {
   "name": "gtx_env",
   "display_name": "gtx_env",
   "language": "python"
  },
  "language_info": {
   "codemirror_mode": {
    "name": "ipython",
    "version": 3
   },
   "file_extension": ".py",
   "mimetype": "text/x-python",
   "name": "python",
   "nbconvert_exporter": "python",
   "pygments_lexer": "ipython3",
   "version": "3.9.0"
  },
  "interpreter": {
   "hash": "1623ae180b50f22c69d9e2cb878edd5ce0d37973e0e1d0b10581911d53e99da0"
  }
 },
 "nbformat": 4,
 "nbformat_minor": 2
}