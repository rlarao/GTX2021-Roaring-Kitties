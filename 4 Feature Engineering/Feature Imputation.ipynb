{
 "cells": [
  {
   "cell_type": "markdown",
   "metadata": {},
   "source": [
    "# Geothermal Datathon 2021\n",
    "---"
   ]
  },
  {
   "cell_type": "markdown",
   "metadata": {},
   "source": [
    "<img src=\"../figures/the_roaring_kitties_logo.png\" width=\"200\" align=\"center\">"
   ]
  },
  {
   "cell_type": "markdown",
   "metadata": {},
   "source": [
    "Team members:\n",
    "- **Ricardo Lara**\n",
    "- **Artur Davletshin**\n",
    "- **Aigul Akberova**\n",
    "- **Sercan Gul**\n",
    "- **Hakki Aydin**\n",
    "- **Jose Hernandez**\n",
    "\n",
    "\n",
    "---"
   ]
  },
  {
   "source": [
    "### Import Modules"
   ],
   "cell_type": "markdown",
   "metadata": {}
  },
  {
   "cell_type": "code",
   "execution_count": 41,
   "metadata": {},
   "outputs": [],
   "source": [
    "import pandas as pd\n",
    "import numpy as np\n",
    "import missingno as msno\n",
    "import matplotlib.pyplot as plt\n",
    "from sklearn.impute import KNNImputer\n",
    "from sklearn.preprocessing import MinMaxScaler\n",
    "import seaborn as sns"
   ]
  },
  {
   "source": [],
   "cell_type": "markdown",
   "metadata": {}
  },
  {
   "cell_type": "code",
   "execution_count": 7,
   "metadata": {},
   "outputs": [],
   "source": [
    "def imput_na(df_original, columns):\n",
    "    df = df_original[columns].copy(deep=True)\n",
    "    scaler = MinMaxScaler()\n",
    "    df = pd.DataFrame(scaler.fit_transform(df), columns =df.columns)\n",
    "\n",
    "    imputer = KNNImputer(n_neighbors=5)\n",
    "    df = pd.DataFrame(imputer.fit_transform(df), columns =df.columns)\n",
    "\n",
    "    df = pd.DataFrame(scaler.inverse_transform(df), columns =df.columns)\n",
    "\n",
    "    df2 = df_original.copy(deep=True)\n",
    "    df2[columns] = df.values\n",
    "    return df2"
   ]
  },
  {
   "cell_type": "code",
   "execution_count": 48,
   "metadata": {},
   "outputs": [],
   "source": [
    "DVt = pd.read_csv('../1 Data Exploration and Visualization/tidy data/Duvernay_Temperatures.csv')\n",
    "EVt = pd.read_csv('../1 Data Exploration and Visualization/tidy data/Eaglebine_Temperatures.csv')\n",
    "\n",
    "DV_UWIs = list(DVt.UWI)\n",
    "EB_UWIs = list(EVt.UWI.astype(str))"
   ]
  },
  {
   "cell_type": "code",
   "execution_count": 29,
   "metadata": {},
   "outputs": [],
   "source": [
    "EB = pd.read_csv('../1 Data Exploration and Visualization/tidy data/Eaglebine_well_logs.csv')\n",
    "DV = pd.read_csv('../1 Data Exploration and Visualization/tidy data/Duvernay_well_logs.csv')"
   ]
  },
  {
   "cell_type": "code",
   "execution_count": 6,
   "metadata": {},
   "outputs": [
    {
     "output_type": "execute_result",
     "data": {
      "text/plain": [
       "         DEPT             UWI       GR  NPHI_SS  NPHI_LS  DPHI_SS  DPHI_LS  \\\n",
       "0       300.0  42013301410000  60.6010      NaN      NaN      NaN      NaN   \n",
       "1       350.0  42013301410000  65.5510      NaN      NaN      NaN      NaN   \n",
       "2       400.0  42013301410000  58.2960      NaN      NaN      NaN      NaN   \n",
       "3       450.0  42013301410000  50.9340      NaN      NaN      NaN      NaN   \n",
       "4       500.0  42013301410000  59.1300      NaN      NaN      NaN      NaN   \n",
       "...       ...             ...      ...      ...      ...      ...      ...   \n",
       "48279  3700.0  42507326870000  29.9536      NaN   0.0563      NaN      NaN   \n",
       "48280  3750.0  42507326870000  23.6987      NaN   0.0437      NaN      NaN   \n",
       "48281  3800.0  42507326870000  21.4959      NaN   0.2112      NaN      NaN   \n",
       "48282  3850.0  42507326870000  20.1248      NaN   0.2074      NaN      NaN   \n",
       "48283  3900.0  42507326870000  23.7728      NaN   0.2363      NaN      NaN   \n",
       "\n",
       "         PEFZ  RHOB      CAL     RDEP      RMED  RSHA  \n",
       "0         NaN   NaN  13.6841   2.1739       NaN   NaN  \n",
       "1         NaN   NaN  13.6899   1.8841       NaN   NaN  \n",
       "2         NaN   NaN  13.6960   2.2855       NaN   NaN  \n",
       "3         NaN   NaN  13.7047   2.4586       NaN   NaN  \n",
       "4         NaN   NaN  13.7106   2.1222       NaN   NaN  \n",
       "...       ...   ...      ...      ...       ...   ...  \n",
       "48279  5.2548   NaN   7.9110  60.6953   91.0743   NaN  \n",
       "48280  5.2795   NaN   7.8882  74.1758  131.2701   NaN  \n",
       "48281  4.2089   NaN   7.6940   3.9921    4.2291   NaN  \n",
       "48282  4.4718   NaN   7.6009   3.9713    4.2810   NaN  \n",
       "48283  4.7828   NaN   7.6319   2.7226    2.8775   NaN  \n",
       "\n",
       "[48284 rows x 13 columns]"
      ],
      "text/html": "<div>\n<style scoped>\n    .dataframe tbody tr th:only-of-type {\n        vertical-align: middle;\n    }\n\n    .dataframe tbody tr th {\n        vertical-align: top;\n    }\n\n    .dataframe thead th {\n        text-align: right;\n    }\n</style>\n<table border=\"1\" class=\"dataframe\">\n  <thead>\n    <tr style=\"text-align: right;\">\n      <th></th>\n      <th>DEPT</th>\n      <th>UWI</th>\n      <th>GR</th>\n      <th>NPHI_SS</th>\n      <th>NPHI_LS</th>\n      <th>DPHI_SS</th>\n      <th>DPHI_LS</th>\n      <th>PEFZ</th>\n      <th>RHOB</th>\n      <th>CAL</th>\n      <th>RDEP</th>\n      <th>RMED</th>\n      <th>RSHA</th>\n    </tr>\n  </thead>\n  <tbody>\n    <tr>\n      <th>0</th>\n      <td>300.0</td>\n      <td>42013301410000</td>\n      <td>60.6010</td>\n      <td>NaN</td>\n      <td>NaN</td>\n      <td>NaN</td>\n      <td>NaN</td>\n      <td>NaN</td>\n      <td>NaN</td>\n      <td>13.6841</td>\n      <td>2.1739</td>\n      <td>NaN</td>\n      <td>NaN</td>\n    </tr>\n    <tr>\n      <th>1</th>\n      <td>350.0</td>\n      <td>42013301410000</td>\n      <td>65.5510</td>\n      <td>NaN</td>\n      <td>NaN</td>\n      <td>NaN</td>\n      <td>NaN</td>\n      <td>NaN</td>\n      <td>NaN</td>\n      <td>13.6899</td>\n      <td>1.8841</td>\n      <td>NaN</td>\n      <td>NaN</td>\n    </tr>\n    <tr>\n      <th>2</th>\n      <td>400.0</td>\n      <td>42013301410000</td>\n      <td>58.2960</td>\n      <td>NaN</td>\n      <td>NaN</td>\n      <td>NaN</td>\n      <td>NaN</td>\n      <td>NaN</td>\n      <td>NaN</td>\n      <td>13.6960</td>\n      <td>2.2855</td>\n      <td>NaN</td>\n      <td>NaN</td>\n    </tr>\n    <tr>\n      <th>3</th>\n      <td>450.0</td>\n      <td>42013301410000</td>\n      <td>50.9340</td>\n      <td>NaN</td>\n      <td>NaN</td>\n      <td>NaN</td>\n      <td>NaN</td>\n      <td>NaN</td>\n      <td>NaN</td>\n      <td>13.7047</td>\n      <td>2.4586</td>\n      <td>NaN</td>\n      <td>NaN</td>\n    </tr>\n    <tr>\n      <th>4</th>\n      <td>500.0</td>\n      <td>42013301410000</td>\n      <td>59.1300</td>\n      <td>NaN</td>\n      <td>NaN</td>\n      <td>NaN</td>\n      <td>NaN</td>\n      <td>NaN</td>\n      <td>NaN</td>\n      <td>13.7106</td>\n      <td>2.1222</td>\n      <td>NaN</td>\n      <td>NaN</td>\n    </tr>\n    <tr>\n      <th>...</th>\n      <td>...</td>\n      <td>...</td>\n      <td>...</td>\n      <td>...</td>\n      <td>...</td>\n      <td>...</td>\n      <td>...</td>\n      <td>...</td>\n      <td>...</td>\n      <td>...</td>\n      <td>...</td>\n      <td>...</td>\n      <td>...</td>\n    </tr>\n    <tr>\n      <th>48279</th>\n      <td>3700.0</td>\n      <td>42507326870000</td>\n      <td>29.9536</td>\n      <td>NaN</td>\n      <td>0.0563</td>\n      <td>NaN</td>\n      <td>NaN</td>\n      <td>5.2548</td>\n      <td>NaN</td>\n      <td>7.9110</td>\n      <td>60.6953</td>\n      <td>91.0743</td>\n      <td>NaN</td>\n    </tr>\n    <tr>\n      <th>48280</th>\n      <td>3750.0</td>\n      <td>42507326870000</td>\n      <td>23.6987</td>\n      <td>NaN</td>\n      <td>0.0437</td>\n      <td>NaN</td>\n      <td>NaN</td>\n      <td>5.2795</td>\n      <td>NaN</td>\n      <td>7.8882</td>\n      <td>74.1758</td>\n      <td>131.2701</td>\n      <td>NaN</td>\n    </tr>\n    <tr>\n      <th>48281</th>\n      <td>3800.0</td>\n      <td>42507326870000</td>\n      <td>21.4959</td>\n      <td>NaN</td>\n      <td>0.2112</td>\n      <td>NaN</td>\n      <td>NaN</td>\n      <td>4.2089</td>\n      <td>NaN</td>\n      <td>7.6940</td>\n      <td>3.9921</td>\n      <td>4.2291</td>\n      <td>NaN</td>\n    </tr>\n    <tr>\n      <th>48282</th>\n      <td>3850.0</td>\n      <td>42507326870000</td>\n      <td>20.1248</td>\n      <td>NaN</td>\n      <td>0.2074</td>\n      <td>NaN</td>\n      <td>NaN</td>\n      <td>4.4718</td>\n      <td>NaN</td>\n      <td>7.6009</td>\n      <td>3.9713</td>\n      <td>4.2810</td>\n      <td>NaN</td>\n    </tr>\n    <tr>\n      <th>48283</th>\n      <td>3900.0</td>\n      <td>42507326870000</td>\n      <td>23.7728</td>\n      <td>NaN</td>\n      <td>0.2363</td>\n      <td>NaN</td>\n      <td>NaN</td>\n      <td>4.7828</td>\n      <td>NaN</td>\n      <td>7.6319</td>\n      <td>2.7226</td>\n      <td>2.8775</td>\n      <td>NaN</td>\n    </tr>\n  </tbody>\n</table>\n<p>48284 rows × 13 columns</p>\n</div>"
     },
     "metadata": {},
     "execution_count": 6
    }
   ],
   "source": [
    "EB"
   ]
  },
  {
   "cell_type": "code",
   "execution_count": 13,
   "metadata": {},
   "outputs": [],
   "source": [
    "columns = ['DEPT',\n",
    "            'GR',\n",
    "            'NPHI_SS',\n",
    "            'NPHI_LS',\n",
    "            'DPHI_SS',\n",
    "            'DPHI_LS',\n",
    "            'PEFZ',\n",
    "            'RHOB',\n",
    "            'CAL',\n",
    "            'RDEP',\n",
    "            'RMED',\n",
    "            'RSHA'\n",
    "            ]\n",
    "\n",
    "EB2 = imput_na(EB, columns)\n",
    "DV2 = imput_na(DV, columns)\n"
   ]
  },
  {
   "cell_type": "code",
   "execution_count": 9,
   "metadata": {},
   "outputs": [
    {
     "output_type": "execute_result",
     "data": {
      "text/plain": [
       "['DEPT',\n",
       " 'UWI',\n",
       " 'GR',\n",
       " 'NPHI_SS',\n",
       " 'NPHI_LS',\n",
       " 'DPHI_SS',\n",
       " 'DPHI_LS',\n",
       " 'PEFZ',\n",
       " 'RHOB',\n",
       " 'CAL',\n",
       " 'RDEP',\n",
       " 'RMED',\n",
       " 'RSHA']"
      ]
     },
     "metadata": {},
     "execution_count": 9
    }
   ],
   "source": [
    "EB.columns.to_list()"
   ]
  },
  {
   "cell_type": "code",
   "execution_count": 14,
   "metadata": {},
   "outputs": [],
   "source": [
    "from sklearn.experimental import enable_iterative_imputer\n",
    "from sklearn.impute import IterativeImputer"
   ]
  },
  {
   "cell_type": "code",
   "execution_count": 45,
   "metadata": {},
   "outputs": [],
   "source": [
    "def iterative_imputer(df_original, columns):\n",
    "    df = df_original[columns].copy(deep=True)\n",
    "    imputer = IterativeImputer(random_state=42)\n",
    "    \n",
    "    df = pd.DataFrame(imputer.fit_transform(df), columns =df.columns)\n",
    "\n",
    "    df2 = df_original.copy(deep=True)\n",
    "    df2[columns] = df.values\n",
    "    return df2"
   ]
  },
  {
   "cell_type": "code",
   "execution_count": 44,
   "metadata": {},
   "outputs": [],
   "source": [
    "def get_values(df, UWIs, cols):\n",
    "    df2 = pd.DataFrame(columns = cols+['UWI'])\n",
    "    df2['UWI'] = UWIs\n",
    "\n",
    "    curves = {}\n",
    "    for col in cols:\n",
    "        curves[col] = np.zeros(len(UWIs))\n",
    "        for i, UWI in enumerate(UWIs):\n",
    "            curves[col][i] = df.loc[df.UWI == UWI, col].values[-1]\n",
    "\n",
    "        df2[col] = curves[col]\n",
    "\n",
    "    return df2"
   ]
  },
  {
   "cell_type": "code",
   "execution_count": 46,
   "metadata": {},
   "outputs": [
    {
     "output_type": "stream",
     "name": "stderr",
     "text": [
      "c:\\Users\\rico\\Documents\\GitHub\\GTX-2021\\gtx_env\\lib\\site-packages\\sklearn\\impute\\_iterative.py:685: ConvergenceWarning: [IterativeImputer] Early stopping criterion not reached.\n  warnings.warn(\"[IterativeImputer] Early stopping criterion not\"\n"
     ]
    }
   ],
   "source": [
    "columns = ['DEPT',\n",
    " 'GR',\n",
    " 'NPHI_SS',\n",
    " 'NPHI_LS',\n",
    " 'DPHI_SS',\n",
    " 'DPHI_LS',\n",
    " 'PEFZ',\n",
    " 'RHOB',\n",
    " 'CAL',\n",
    " 'RDEP',\n",
    " 'RMED',\n",
    " 'RSHA']\n",
    "\n",
    "EB2 = iterative_imputer(EB, columns)\n",
    "DV2 = iterative_imputer(DV, columns)"
   ]
  },
  {
   "cell_type": "code",
   "execution_count": 39,
   "metadata": {},
   "outputs": [],
   "source": [
    "columns =  [\n",
    " 'GR',\n",
    " 'NPHI_SS',\n",
    " 'NPHI_LS',\n",
    " 'DPHI_SS',\n",
    " 'DPHI_LS',\n",
    " 'PEFZ',\n",
    " 'RHOB',\n",
    " 'CAL',\n",
    " 'RDEP',\n",
    " 'RMED',\n",
    " 'RSHA']\n",
    "\n",
    "EB3 = get_values(EB,UWIs, columns)\n",
    "DV2 = get_values()"
   ]
  },
  {
   "cell_type": "code",
   "execution_count": 52,
   "metadata": {},
   "outputs": [],
   "source": [
    "EB2.to_csv('imputed well logs/Eaglebine_well_logs.csv')\n",
    "DV2.to_csv('imputed well logs/Duvernay_well_logs.csv')"
   ]
  },
  {
   "cell_type": "code",
   "execution_count": 51,
   "metadata": {},
   "outputs": [
    {
     "output_type": "execute_result",
     "data": {
      "text/plain": [
       "         DEPT             UWI       GR  NPHI_SS  NPHI_LS  DPHI_SS  DPHI_LS  \\\n",
       "0       300.0  42013301410000  60.6010      NaN      NaN      NaN      NaN   \n",
       "1       350.0  42013301410000  65.5510      NaN      NaN      NaN      NaN   \n",
       "2       400.0  42013301410000  58.2960      NaN      NaN      NaN      NaN   \n",
       "3       450.0  42013301410000  50.9340      NaN      NaN      NaN      NaN   \n",
       "4       500.0  42013301410000  59.1300      NaN      NaN      NaN      NaN   \n",
       "...       ...             ...      ...      ...      ...      ...      ...   \n",
       "48279  3700.0  42507326870000  29.9536      NaN   0.0563      NaN      NaN   \n",
       "48280  3750.0  42507326870000  23.6987      NaN   0.0437      NaN      NaN   \n",
       "48281  3800.0  42507326870000  21.4959      NaN   0.2112      NaN      NaN   \n",
       "48282  3850.0  42507326870000  20.1248      NaN   0.2074      NaN      NaN   \n",
       "48283  3900.0  42507326870000  23.7728      NaN   0.2363      NaN      NaN   \n",
       "\n",
       "         PEFZ  RHOB      CAL     RDEP      RMED  RSHA  \n",
       "0         NaN   NaN  13.6841   2.1739       NaN   NaN  \n",
       "1         NaN   NaN  13.6899   1.8841       NaN   NaN  \n",
       "2         NaN   NaN  13.6960   2.2855       NaN   NaN  \n",
       "3         NaN   NaN  13.7047   2.4586       NaN   NaN  \n",
       "4         NaN   NaN  13.7106   2.1222       NaN   NaN  \n",
       "...       ...   ...      ...      ...       ...   ...  \n",
       "48279  5.2548   NaN   7.9110  60.6953   91.0743   NaN  \n",
       "48280  5.2795   NaN   7.8882  74.1758  131.2701   NaN  \n",
       "48281  4.2089   NaN   7.6940   3.9921    4.2291   NaN  \n",
       "48282  4.4718   NaN   7.6009   3.9713    4.2810   NaN  \n",
       "48283  4.7828   NaN   7.6319   2.7226    2.8775   NaN  \n",
       "\n",
       "[48284 rows x 13 columns]"
      ],
      "text/html": "<div>\n<style scoped>\n    .dataframe tbody tr th:only-of-type {\n        vertical-align: middle;\n    }\n\n    .dataframe tbody tr th {\n        vertical-align: top;\n    }\n\n    .dataframe thead th {\n        text-align: right;\n    }\n</style>\n<table border=\"1\" class=\"dataframe\">\n  <thead>\n    <tr style=\"text-align: right;\">\n      <th></th>\n      <th>DEPT</th>\n      <th>UWI</th>\n      <th>GR</th>\n      <th>NPHI_SS</th>\n      <th>NPHI_LS</th>\n      <th>DPHI_SS</th>\n      <th>DPHI_LS</th>\n      <th>PEFZ</th>\n      <th>RHOB</th>\n      <th>CAL</th>\n      <th>RDEP</th>\n      <th>RMED</th>\n      <th>RSHA</th>\n    </tr>\n  </thead>\n  <tbody>\n    <tr>\n      <th>0</th>\n      <td>300.0</td>\n      <td>42013301410000</td>\n      <td>60.6010</td>\n      <td>NaN</td>\n      <td>NaN</td>\n      <td>NaN</td>\n      <td>NaN</td>\n      <td>NaN</td>\n      <td>NaN</td>\n      <td>13.6841</td>\n      <td>2.1739</td>\n      <td>NaN</td>\n      <td>NaN</td>\n    </tr>\n    <tr>\n      <th>1</th>\n      <td>350.0</td>\n      <td>42013301410000</td>\n      <td>65.5510</td>\n      <td>NaN</td>\n      <td>NaN</td>\n      <td>NaN</td>\n      <td>NaN</td>\n      <td>NaN</td>\n      <td>NaN</td>\n      <td>13.6899</td>\n      <td>1.8841</td>\n      <td>NaN</td>\n      <td>NaN</td>\n    </tr>\n    <tr>\n      <th>2</th>\n      <td>400.0</td>\n      <td>42013301410000</td>\n      <td>58.2960</td>\n      <td>NaN</td>\n      <td>NaN</td>\n      <td>NaN</td>\n      <td>NaN</td>\n      <td>NaN</td>\n      <td>NaN</td>\n      <td>13.6960</td>\n      <td>2.2855</td>\n      <td>NaN</td>\n      <td>NaN</td>\n    </tr>\n    <tr>\n      <th>3</th>\n      <td>450.0</td>\n      <td>42013301410000</td>\n      <td>50.9340</td>\n      <td>NaN</td>\n      <td>NaN</td>\n      <td>NaN</td>\n      <td>NaN</td>\n      <td>NaN</td>\n      <td>NaN</td>\n      <td>13.7047</td>\n      <td>2.4586</td>\n      <td>NaN</td>\n      <td>NaN</td>\n    </tr>\n    <tr>\n      <th>4</th>\n      <td>500.0</td>\n      <td>42013301410000</td>\n      <td>59.1300</td>\n      <td>NaN</td>\n      <td>NaN</td>\n      <td>NaN</td>\n      <td>NaN</td>\n      <td>NaN</td>\n      <td>NaN</td>\n      <td>13.7106</td>\n      <td>2.1222</td>\n      <td>NaN</td>\n      <td>NaN</td>\n    </tr>\n    <tr>\n      <th>...</th>\n      <td>...</td>\n      <td>...</td>\n      <td>...</td>\n      <td>...</td>\n      <td>...</td>\n      <td>...</td>\n      <td>...</td>\n      <td>...</td>\n      <td>...</td>\n      <td>...</td>\n      <td>...</td>\n      <td>...</td>\n      <td>...</td>\n    </tr>\n    <tr>\n      <th>48279</th>\n      <td>3700.0</td>\n      <td>42507326870000</td>\n      <td>29.9536</td>\n      <td>NaN</td>\n      <td>0.0563</td>\n      <td>NaN</td>\n      <td>NaN</td>\n      <td>5.2548</td>\n      <td>NaN</td>\n      <td>7.9110</td>\n      <td>60.6953</td>\n      <td>91.0743</td>\n      <td>NaN</td>\n    </tr>\n    <tr>\n      <th>48280</th>\n      <td>3750.0</td>\n      <td>42507326870000</td>\n      <td>23.6987</td>\n      <td>NaN</td>\n      <td>0.0437</td>\n      <td>NaN</td>\n      <td>NaN</td>\n      <td>5.2795</td>\n      <td>NaN</td>\n      <td>7.8882</td>\n      <td>74.1758</td>\n      <td>131.2701</td>\n      <td>NaN</td>\n    </tr>\n    <tr>\n      <th>48281</th>\n      <td>3800.0</td>\n      <td>42507326870000</td>\n      <td>21.4959</td>\n      <td>NaN</td>\n      <td>0.2112</td>\n      <td>NaN</td>\n      <td>NaN</td>\n      <td>4.2089</td>\n      <td>NaN</td>\n      <td>7.6940</td>\n      <td>3.9921</td>\n      <td>4.2291</td>\n      <td>NaN</td>\n    </tr>\n    <tr>\n      <th>48282</th>\n      <td>3850.0</td>\n      <td>42507326870000</td>\n      <td>20.1248</td>\n      <td>NaN</td>\n      <td>0.2074</td>\n      <td>NaN</td>\n      <td>NaN</td>\n      <td>4.4718</td>\n      <td>NaN</td>\n      <td>7.6009</td>\n      <td>3.9713</td>\n      <td>4.2810</td>\n      <td>NaN</td>\n    </tr>\n    <tr>\n      <th>48283</th>\n      <td>3900.0</td>\n      <td>42507326870000</td>\n      <td>23.7728</td>\n      <td>NaN</td>\n      <td>0.2363</td>\n      <td>NaN</td>\n      <td>NaN</td>\n      <td>4.7828</td>\n      <td>NaN</td>\n      <td>7.6319</td>\n      <td>2.7226</td>\n      <td>2.8775</td>\n      <td>NaN</td>\n    </tr>\n  </tbody>\n</table>\n<p>48284 rows × 13 columns</p>\n</div>"
     },
     "metadata": {},
     "execution_count": 51
    }
   ],
   "source": [
    "EB"
   ]
  },
  {
   "cell_type": "code",
   "execution_count": null,
   "metadata": {},
   "outputs": [],
   "source": []
  }
 ],
 "metadata": {
  "kernelspec": {
   "name": "gtx_env",
   "display_name": "gtx_env",
   "language": "python"
  },
  "language_info": {
   "codemirror_mode": {
    "name": "ipython",
    "version": 3
   },
   "file_extension": ".py",
   "mimetype": "text/x-python",
   "name": "python",
   "nbconvert_exporter": "python",
   "pygments_lexer": "ipython3",
   "version": "3.9.0"
  },
  "interpreter": {
   "hash": "1623ae180b50f22c69d9e2cb878edd5ce0d37973e0e1d0b10581911d53e99da0"
  }
 },
 "nbformat": 4,
 "nbformat_minor": 2
}