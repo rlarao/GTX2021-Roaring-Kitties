{
 "cells": [
  {
   "cell_type": "markdown",
   "metadata": {},
   "source": [
    "# Geothermal Datathon 2021\n",
    "---"
   ]
  },
  {
   "cell_type": "markdown",
   "metadata": {},
   "source": [
    "<img src=\"../figures/the_roaring_kitties_logo.png\" width=\"600\" align=\"center\">"
   ]
  },
  {
   "cell_type": "markdown",
   "metadata": {},
   "source": [
    "Team members:\n",
    "- **Ricardo Lara**\n",
    "- **Artur Davletshin**\n",
    "- **Aigul Akberova**\n",
    "- **Sercan Gul**\n",
    "- **Hakki Aydin**\n",
    "- **Jose Hernandez**\n",
    "\n",
    "\n",
    "---"
   ]
  },
  {
   "cell_type": "markdown",
   "metadata": {},
   "source": [
    "### Import Modules"
   ]
  },
  {
   "cell_type": "code",
   "execution_count": 35,
   "metadata": {},
   "outputs": [],
   "source": [
    "import pandas as pd\n",
    "import numpy as np\n",
    "import missingno as msno\n",
    "import matplotlib.pyplot as plt\n",
    "import seaborn as sns"
   ]
  },
  {
   "cell_type": "markdown",
   "metadata": {},
   "source": []
  },
  {
   "cell_type": "code",
   "execution_count": 146,
   "metadata": {},
   "outputs": [],
   "source": [
    "DVp = pd.read_csv('data/DV_predictions.csv')\n",
    "EBp = pd.read_csv('data/EB_predictions.csv')\n",
    "\n",
    "DVm = pd.read_csv('data/Duvernay_merged.csv')\n",
    "EBm = pd.read_csv('data/Eaglebine_merged.csv')\n",
    "\n",
    "DVmisc = pd.read_csv('data/Duvernay Misc.csv')\n",
    "EBmisc = pd.read_csv('data/Eaglebine Misc.csv')"
   ]
  },
  {
   "cell_type": "code",
   "execution_count": 147,
   "metadata": {},
   "outputs": [
    {
     "data": {
      "text/html": [
       "<div>\n",
       "<style scoped>\n",
       "    .dataframe tbody tr th:only-of-type {\n",
       "        vertical-align: middle;\n",
       "    }\n",
       "\n",
       "    .dataframe tbody tr th {\n",
       "        vertical-align: top;\n",
       "    }\n",
       "\n",
       "    .dataframe thead th {\n",
       "        text-align: right;\n",
       "    }\n",
       "</style>\n",
       "<table border=\"1\" class=\"dataframe\">\n",
       "  <thead>\n",
       "    <tr style=\"text-align: right;\">\n",
       "      <th></th>\n",
       "      <th>UWI</th>\n",
       "      <th>SurfaceLatitude_NAD27</th>\n",
       "      <th>SurfaceLongitude_NAD27</th>\n",
       "      <th>BottomLatitude_NAD27</th>\n",
       "      <th>BottomLongitude_NAD27</th>\n",
       "      <th>oil total cum, bbl</th>\n",
       "      <th>gas total cum, mcf</th>\n",
       "      <th>water total cum, bbl</th>\n",
       "      <th>gor total average</th>\n",
       "      <th>gas maximum, mcf</th>\n",
       "      <th>...</th>\n",
       "      <th>yield total average</th>\n",
       "      <th>status</th>\n",
       "      <th>Start TVD, m</th>\n",
       "      <th>End TVD, m</th>\n",
       "      <th>Start MD, m</th>\n",
       "      <th>End MD, m</th>\n",
       "      <th>Pressure Recorder Depth, m</th>\n",
       "      <th>DST BHT, C</th>\n",
       "      <th>Maximum Shut-in Pressure, kPa</th>\n",
       "      <th>Final Hydrostatic Pressure, kPa</th>\n",
       "    </tr>\n",
       "  </thead>\n",
       "  <tbody>\n",
       "    <tr>\n",
       "      <th>0</th>\n",
       "      <td>100072507623W500</td>\n",
       "      <td>55.613640</td>\n",
       "      <td>-117.423800</td>\n",
       "      <td>55.613640</td>\n",
       "      <td>-117.423800</td>\n",
       "      <td>NaN</td>\n",
       "      <td>NaN</td>\n",
       "      <td>NaN</td>\n",
       "      <td>NaN</td>\n",
       "      <td>NaN</td>\n",
       "      <td>...</td>\n",
       "      <td>NaN</td>\n",
       "      <td>producing</td>\n",
       "      <td>NaN</td>\n",
       "      <td>NaN</td>\n",
       "      <td>2458.0</td>\n",
       "      <td>2466.0</td>\n",
       "      <td>2461.70</td>\n",
       "      <td>82.00</td>\n",
       "      <td>22450.0</td>\n",
       "      <td>27020.00</td>\n",
       "    </tr>\n",
       "    <tr>\n",
       "      <th>1</th>\n",
       "      <td>100062007823W500</td>\n",
       "      <td>55.770872</td>\n",
       "      <td>-117.537674</td>\n",
       "      <td>55.770872</td>\n",
       "      <td>-117.537674</td>\n",
       "      <td>NaN</td>\n",
       "      <td>NaN</td>\n",
       "      <td>NaN</td>\n",
       "      <td>NaN</td>\n",
       "      <td>NaN</td>\n",
       "      <td>...</td>\n",
       "      <td>NaN</td>\n",
       "      <td>producing</td>\n",
       "      <td>NaN</td>\n",
       "      <td>NaN</td>\n",
       "      <td>879.0</td>\n",
       "      <td>882.4</td>\n",
       "      <td>880.80</td>\n",
       "      <td>31.00</td>\n",
       "      <td>8438.0</td>\n",
       "      <td>10235.00</td>\n",
       "    </tr>\n",
       "    <tr>\n",
       "      <th>2</th>\n",
       "      <td>100052107723W500</td>\n",
       "      <td>55.683723</td>\n",
       "      <td>-117.516168</td>\n",
       "      <td>55.683723</td>\n",
       "      <td>-117.516168</td>\n",
       "      <td>NaN</td>\n",
       "      <td>NaN</td>\n",
       "      <td>NaN</td>\n",
       "      <td>NaN</td>\n",
       "      <td>NaN</td>\n",
       "      <td>...</td>\n",
       "      <td>NaN</td>\n",
       "      <td>producing</td>\n",
       "      <td>NaN</td>\n",
       "      <td>NaN</td>\n",
       "      <td>NaN</td>\n",
       "      <td>NaN</td>\n",
       "      <td>NaN</td>\n",
       "      <td>NaN</td>\n",
       "      <td>NaN</td>\n",
       "      <td>NaN</td>\n",
       "    </tr>\n",
       "    <tr>\n",
       "      <th>3</th>\n",
       "      <td>100061307518W500</td>\n",
       "      <td>55.494600</td>\n",
       "      <td>-116.653606</td>\n",
       "      <td>55.494600</td>\n",
       "      <td>-116.653606</td>\n",
       "      <td>NaN</td>\n",
       "      <td>NaN</td>\n",
       "      <td>NaN</td>\n",
       "      <td>NaN</td>\n",
       "      <td>NaN</td>\n",
       "      <td>...</td>\n",
       "      <td>NaN</td>\n",
       "      <td>producing</td>\n",
       "      <td>NaN</td>\n",
       "      <td>NaN</td>\n",
       "      <td>862.0</td>\n",
       "      <td>871.5</td>\n",
       "      <td>864.00</td>\n",
       "      <td>35.50</td>\n",
       "      <td>7726.0</td>\n",
       "      <td>9735.00</td>\n",
       "    </tr>\n",
       "    <tr>\n",
       "      <th>4</th>\n",
       "      <td>100070907618W500</td>\n",
       "      <td>55.566965</td>\n",
       "      <td>-116.726243</td>\n",
       "      <td>55.566965</td>\n",
       "      <td>-116.726243</td>\n",
       "      <td>NaN</td>\n",
       "      <td>NaN</td>\n",
       "      <td>NaN</td>\n",
       "      <td>NaN</td>\n",
       "      <td>NaN</td>\n",
       "      <td>...</td>\n",
       "      <td>NaN</td>\n",
       "      <td>producing</td>\n",
       "      <td>NaN</td>\n",
       "      <td>NaN</td>\n",
       "      <td>887.0</td>\n",
       "      <td>919.0</td>\n",
       "      <td>889.00</td>\n",
       "      <td>32.30</td>\n",
       "      <td>616.0</td>\n",
       "      <td>9513.00</td>\n",
       "    </tr>\n",
       "    <tr>\n",
       "      <th>...</th>\n",
       "      <td>...</td>\n",
       "      <td>...</td>\n",
       "      <td>...</td>\n",
       "      <td>...</td>\n",
       "      <td>...</td>\n",
       "      <td>...</td>\n",
       "      <td>...</td>\n",
       "      <td>...</td>\n",
       "      <td>...</td>\n",
       "      <td>...</td>\n",
       "      <td>...</td>\n",
       "      <td>...</td>\n",
       "      <td>...</td>\n",
       "      <td>...</td>\n",
       "      <td>...</td>\n",
       "      <td>...</td>\n",
       "      <td>...</td>\n",
       "      <td>...</td>\n",
       "      <td>...</td>\n",
       "      <td>...</td>\n",
       "      <td>...</td>\n",
       "    </tr>\n",
       "    <tr>\n",
       "      <th>507</th>\n",
       "      <td>100013603712W500</td>\n",
       "      <td>52.216665</td>\n",
       "      <td>-115.579316</td>\n",
       "      <td>52.217223</td>\n",
       "      <td>-115.578140</td>\n",
       "      <td>NaN</td>\n",
       "      <td>NaN</td>\n",
       "      <td>NaN</td>\n",
       "      <td>NaN</td>\n",
       "      <td>NaN</td>\n",
       "      <td>...</td>\n",
       "      <td>NaN</td>\n",
       "      <td>producing</td>\n",
       "      <td>1037.3</td>\n",
       "      <td>1042.4</td>\n",
       "      <td>1040.6</td>\n",
       "      <td>1045.8</td>\n",
       "      <td>1043.33</td>\n",
       "      <td>26.67</td>\n",
       "      <td>10535.2</td>\n",
       "      <td>10466.24</td>\n",
       "    </tr>\n",
       "    <tr>\n",
       "      <th>508</th>\n",
       "      <td>100101105718W500</td>\n",
       "      <td>53.914953</td>\n",
       "      <td>-116.559741</td>\n",
       "      <td>53.914953</td>\n",
       "      <td>-116.559741</td>\n",
       "      <td>NaN</td>\n",
       "      <td>NaN</td>\n",
       "      <td>NaN</td>\n",
       "      <td>NaN</td>\n",
       "      <td>NaN</td>\n",
       "      <td>...</td>\n",
       "      <td>NaN</td>\n",
       "      <td>producing</td>\n",
       "      <td>NaN</td>\n",
       "      <td>NaN</td>\n",
       "      <td>1993.4</td>\n",
       "      <td>2014.7</td>\n",
       "      <td>1996.44</td>\n",
       "      <td>58.89</td>\n",
       "      <td>779.1</td>\n",
       "      <td>19981.01</td>\n",
       "    </tr>\n",
       "    <tr>\n",
       "      <th>509</th>\n",
       "      <td>100112004213W500</td>\n",
       "      <td>52.633129</td>\n",
       "      <td>-115.838137</td>\n",
       "      <td>52.633602</td>\n",
       "      <td>-115.837674</td>\n",
       "      <td>NaN</td>\n",
       "      <td>NaN</td>\n",
       "      <td>NaN</td>\n",
       "      <td>NaN</td>\n",
       "      <td>NaN</td>\n",
       "      <td>...</td>\n",
       "      <td>NaN</td>\n",
       "      <td>producing</td>\n",
       "      <td>3534.6</td>\n",
       "      <td>3537.6</td>\n",
       "      <td>3535.1</td>\n",
       "      <td>3538.1</td>\n",
       "      <td>3525.32</td>\n",
       "      <td>102.78</td>\n",
       "      <td>40761.8</td>\n",
       "      <td>42085.61</td>\n",
       "    </tr>\n",
       "    <tr>\n",
       "      <th>510</th>\n",
       "      <td>100142103711W500</td>\n",
       "      <td>52.199202</td>\n",
       "      <td>-115.517529</td>\n",
       "      <td>52.200163</td>\n",
       "      <td>-115.517398</td>\n",
       "      <td>NaN</td>\n",
       "      <td>NaN</td>\n",
       "      <td>NaN</td>\n",
       "      <td>NaN</td>\n",
       "      <td>NaN</td>\n",
       "      <td>...</td>\n",
       "      <td>NaN</td>\n",
       "      <td>producing</td>\n",
       "      <td>4063.6</td>\n",
       "      <td>4082.5</td>\n",
       "      <td>4072.1</td>\n",
       "      <td>4091.0</td>\n",
       "      <td>4052.62</td>\n",
       "      <td>98.89</td>\n",
       "      <td>33970.5</td>\n",
       "      <td>48663.21</td>\n",
       "    </tr>\n",
       "    <tr>\n",
       "      <th>511</th>\n",
       "      <td>100042103812W500</td>\n",
       "      <td>52.277338</td>\n",
       "      <td>-115.665615</td>\n",
       "      <td>52.278579</td>\n",
       "      <td>-115.665615</td>\n",
       "      <td>NaN</td>\n",
       "      <td>NaN</td>\n",
       "      <td>NaN</td>\n",
       "      <td>NaN</td>\n",
       "      <td>NaN</td>\n",
       "      <td>...</td>\n",
       "      <td>NaN</td>\n",
       "      <td>producing</td>\n",
       "      <td>NaN</td>\n",
       "      <td>NaN</td>\n",
       "      <td>2763.9</td>\n",
       "      <td>2779.2</td>\n",
       "      <td>2770.33</td>\n",
       "      <td>83.33</td>\n",
       "      <td>21263.4</td>\n",
       "      <td>28399.51</td>\n",
       "    </tr>\n",
       "  </tbody>\n",
       "</table>\n",
       "<p>512 rows × 22 columns</p>\n",
       "</div>"
      ],
      "text/plain": [
       "                  UWI  SurfaceLatitude_NAD27  SurfaceLongitude_NAD27  \\\n",
       "0    100072507623W500              55.613640             -117.423800   \n",
       "1    100062007823W500              55.770872             -117.537674   \n",
       "2    100052107723W500              55.683723             -117.516168   \n",
       "3    100061307518W500              55.494600             -116.653606   \n",
       "4    100070907618W500              55.566965             -116.726243   \n",
       "..                ...                    ...                     ...   \n",
       "507  100013603712W500              52.216665             -115.579316   \n",
       "508  100101105718W500              53.914953             -116.559741   \n",
       "509  100112004213W500              52.633129             -115.838137   \n",
       "510  100142103711W500              52.199202             -115.517529   \n",
       "511  100042103812W500              52.277338             -115.665615   \n",
       "\n",
       "     BottomLatitude_NAD27  BottomLongitude_NAD27  oil total cum, bbl  \\\n",
       "0               55.613640            -117.423800                 NaN   \n",
       "1               55.770872            -117.537674                 NaN   \n",
       "2               55.683723            -117.516168                 NaN   \n",
       "3               55.494600            -116.653606                 NaN   \n",
       "4               55.566965            -116.726243                 NaN   \n",
       "..                    ...                    ...                 ...   \n",
       "507             52.217223            -115.578140                 NaN   \n",
       "508             53.914953            -116.559741                 NaN   \n",
       "509             52.633602            -115.837674                 NaN   \n",
       "510             52.200163            -115.517398                 NaN   \n",
       "511             52.278579            -115.665615                 NaN   \n",
       "\n",
       "     gas total cum, mcf  water total cum, bbl  gor total average  \\\n",
       "0                   NaN                   NaN                NaN   \n",
       "1                   NaN                   NaN                NaN   \n",
       "2                   NaN                   NaN                NaN   \n",
       "3                   NaN                   NaN                NaN   \n",
       "4                   NaN                   NaN                NaN   \n",
       "..                  ...                   ...                ...   \n",
       "507                 NaN                   NaN                NaN   \n",
       "508                 NaN                   NaN                NaN   \n",
       "509                 NaN                   NaN                NaN   \n",
       "510                 NaN                   NaN                NaN   \n",
       "511                 NaN                   NaN                NaN   \n",
       "\n",
       "     gas maximum, mcf  ...  yield total average     status  Start TVD, m  \\\n",
       "0                 NaN  ...                  NaN  producing           NaN   \n",
       "1                 NaN  ...                  NaN  producing           NaN   \n",
       "2                 NaN  ...                  NaN  producing           NaN   \n",
       "3                 NaN  ...                  NaN  producing           NaN   \n",
       "4                 NaN  ...                  NaN  producing           NaN   \n",
       "..                ...  ...                  ...        ...           ...   \n",
       "507               NaN  ...                  NaN  producing        1037.3   \n",
       "508               NaN  ...                  NaN  producing           NaN   \n",
       "509               NaN  ...                  NaN  producing        3534.6   \n",
       "510               NaN  ...                  NaN  producing        4063.6   \n",
       "511               NaN  ...                  NaN  producing           NaN   \n",
       "\n",
       "    End TVD, m  Start MD, m  End MD, m  Pressure Recorder Depth, m  \\\n",
       "0          NaN       2458.0     2466.0                     2461.70   \n",
       "1          NaN        879.0      882.4                      880.80   \n",
       "2          NaN          NaN        NaN                         NaN   \n",
       "3          NaN        862.0      871.5                      864.00   \n",
       "4          NaN        887.0      919.0                      889.00   \n",
       "..         ...          ...        ...                         ...   \n",
       "507     1042.4       1040.6     1045.8                     1043.33   \n",
       "508        NaN       1993.4     2014.7                     1996.44   \n",
       "509     3537.6       3535.1     3538.1                     3525.32   \n",
       "510     4082.5       4072.1     4091.0                     4052.62   \n",
       "511        NaN       2763.9     2779.2                     2770.33   \n",
       "\n",
       "     DST BHT, C  Maximum Shut-in Pressure, kPa  \\\n",
       "0         82.00                        22450.0   \n",
       "1         31.00                         8438.0   \n",
       "2           NaN                            NaN   \n",
       "3         35.50                         7726.0   \n",
       "4         32.30                          616.0   \n",
       "..          ...                            ...   \n",
       "507       26.67                        10535.2   \n",
       "508       58.89                          779.1   \n",
       "509      102.78                        40761.8   \n",
       "510       98.89                        33970.5   \n",
       "511       83.33                        21263.4   \n",
       "\n",
       "     Final Hydrostatic Pressure, kPa  \n",
       "0                           27020.00  \n",
       "1                           10235.00  \n",
       "2                                NaN  \n",
       "3                            9735.00  \n",
       "4                            9513.00  \n",
       "..                               ...  \n",
       "507                         10466.24  \n",
       "508                         19981.01  \n",
       "509                         42085.61  \n",
       "510                         48663.21  \n",
       "511                         28399.51  \n",
       "\n",
       "[512 rows x 22 columns]"
      ]
     },
     "execution_count": 147,
     "metadata": {},
     "output_type": "execute_result"
    }
   ],
   "source": [
    "DVmisc"
   ]
  },
  {
   "cell_type": "code",
   "execution_count": 108,
   "metadata": {},
   "outputs": [
    {
     "data": {
      "text/plain": [
       "Index(['Unnamed: 0', 'UWI', 'BHT', 'TrueTemp', 'Field', 'TD (ft)', 'Avg_Gamma',\n",
       "       'Mud Wt_0', 'Elevation_KB', 'Surface_Lat_NAD83', 'Surface_lon_NAD83',\n",
       "       'Bottom_Lat_NAD83', 'Bottom_lon_NAD83', 'Surface_Lat_NAD27',\n",
       "       'Surface_lon_NAD27', 'Bottom_Lat_NAD27', 'Bottom_lon_NAD27', 'Set',\n",
       "       'Unnamed: 0.1', 'Depth subsea, m', 'BHT, C', 'Formation',\n",
       "       'syn_diff_depth', 'Synthetic Temp, C', 'Static Temp, C',\n",
       "       'static_diff_depth', 'True Temp, C', 'source', 'depth_diff',\n",
       "       'abs_depth_diff', 'label', 'SLAT_WGS84', 'SLON_WGS84', 'DFT', 'DFD',\n",
       "       'DFV', 'DFPH', 'DFL', 'RMS', 'MST', 'RMF', 'MFST', 'RMC', 'MCST', 'RMB',\n",
       "       'TCS', 'TLAB', 'CS', 'BS', 'BSD', 'PHI', 'Vsh', 'Temp_pred'],\n",
       "      dtype='object')"
      ]
     },
     "execution_count": 108,
     "metadata": {},
     "output_type": "execute_result"
    }
   ],
   "source": [
    "DVp.columns"
   ]
  },
  {
   "cell_type": "code",
   "execution_count": 107,
   "metadata": {},
   "outputs": [
    {
     "data": {
      "text/plain": [
       "Index(['UWI', 'Depth subsea, m', 'BHT, C', 'Formation', 'Synthetic Temp, C',\n",
       "       'Static Temp, C', 'True Temp, C', 'source', 'label',\n",
       "       'SurfaceLatitude_NAD27', 'SurfaceLongitude_NAD27',\n",
       "       'BottomLatitude_NAD27', 'BottomLongitude_NAD27', 'oil total cum, bbl',\n",
       "       'gas total cum, mcf', 'water total cum, bbl', 'gor total average',\n",
       "       'gas maximum, mcf', 'oil maximum, bbl', 'water maximum, bbl',\n",
       "       'yield total average', 'status', 'DST BHT, C',\n",
       "       'Maximum Shut-in Pressure, kPa', 'GR', 'NPHI_SS', 'NPHI_LS', 'DPHI_SS',\n",
       "       'DPHI_LS', 'PEFZ', 'RHOB', 'CAL'],\n",
       "      dtype='object')"
      ]
     },
     "execution_count": 107,
     "metadata": {},
     "output_type": "execute_result"
    }
   ],
   "source": [
    "DVm.columns"
   ]
  },
  {
   "cell_type": "code",
   "execution_count": 160,
   "metadata": {},
   "outputs": [],
   "source": [
    "col_p = ['UWI',\n",
    "         'TrueTemp',\n",
    "         'Surface_Lat_NAD27',\n",
    " 'Surface_lon_NAD27',\n",
    " 'Bottom_Lat_NAD27',\n",
    " 'Bottom_lon_NAD27',\n",
    "    \n",
    "    \n",
    "]\n",
    "\n",
    "col_m = ['UWI',\n",
    "    'Formation',\n",
    " 'Synthetic Temp, C',\n",
    " 'Static Temp, C',\n",
    " 'True Temp, C',\n",
    " 'source',\n",
    " 'label',\n",
    "]\n",
    "\n",
    "col_misc = ['UWI',\n",
    "    'oil total cum, bbl',\n",
    " 'gas total cum, mcf',\n",
    " 'water total cum, bbl',\n",
    " 'gor total average',\n",
    " 'gas maximum, mcf',\n",
    " 'oil maximum, bbl',\n",
    " 'water maximum, bbl',\n",
    " 'status',\n",
    "\n",
    "]\n",
    "\n",
    "\n",
    "\n",
    "DV = DVp[col_p].merge(DVm[col_m], on='UWI', how='left')\n",
    "DV = DV.merge(DVmisc[col_misc], on='UWI', how='left')"
   ]
  },
  {
   "cell_type": "code",
   "execution_count": 163,
   "metadata": {
    "scrolled": true
   },
   "outputs": [
    {
     "data": {
      "text/plain": [
       "UWI                       0\n",
       "TrueTemp                  0\n",
       "Surface_Lat_NAD27         0\n",
       "Surface_lon_NAD27         0\n",
       "Bottom_Lat_NAD27          0\n",
       "Bottom_lon_NAD27          0\n",
       "Formation                 0\n",
       "Synthetic Temp, C       140\n",
       "Static Temp, C          490\n",
       "True Temp, C            140\n",
       "source                  140\n",
       "label                     0\n",
       "oil total cum, bbl      350\n",
       "gas total cum, mcf      350\n",
       "water total cum, bbl    350\n",
       "gor total average       363\n",
       "gas maximum, mcf        350\n",
       "oil maximum, bbl        350\n",
       "water maximum, bbl      350\n",
       "status                    0\n",
       "wc                      354\n",
       "dtype: int64"
      ]
     },
     "execution_count": 163,
     "metadata": {},
     "output_type": "execute_result"
    }
   ],
   "source": [
    "DV.isnull().sum()"
   ]
  },
  {
   "cell_type": "code",
   "execution_count": 165,
   "metadata": {
    "scrolled": true
   },
   "outputs": [
    {
     "data": {
      "text/plain": [
       "array([[<AxesSubplot:title={'center':'water maximum, bbl'}>]],\n",
       "      dtype=object)"
      ]
     },
     "execution_count": 165,
     "metadata": {},
     "output_type": "execute_result"
    },
    {
     "data": {
      "image/png": "[encoded data removed]",
      "text/plain": [
       "<Figure size 432x288 with 1 Axes>"
      ]
     },
     "metadata": {
      "needs_background": "light"
     },
     "output_type": "display_data"
    }
   ],
   "source": [
    "DV.hist(column='water maximum, bbl')"
   ]
  },
  {
   "cell_type": "code",
   "execution_count": 167,
   "metadata": {},
   "outputs": [
    {
     "data": {
      "text/plain": [
       "490"
      ]
     },
     "execution_count": 167,
     "metadata": {},
     "output_type": "execute_result"
    }
   ],
   "source": [
    "len(DV)"
   ]
  },
  {
   "cell_type": "code",
   "execution_count": 168,
   "metadata": {},
   "outputs": [
    {
     "data": {
      "text/plain": [
       "0.7142857142857143"
      ]
     },
     "execution_count": 168,
     "metadata": {},
     "output_type": "execute_result"
    }
   ],
   "source": [
    "350/490\n"
   ]
  },
  {
   "cell_type": "code",
   "execution_count": 166,
   "metadata": {},
   "outputs": [
    {
     "data": {
      "text/plain": [
       "array([[<AxesSubplot:title={'center':'oil maximum, bbl'}>]], dtype=object)"
      ]
     },
     "execution_count": 166,
     "metadata": {},
     "output_type": "execute_result"
    },
    {
     "data": {
      "image/png": "[encoded data removed]",
      "text/plain": [
       "<Figure size 432x288 with 1 Axes>"
      ]
     },
     "metadata": {
      "needs_background": "light"
     },
     "output_type": "display_data"
    }
   ],
   "source": [
    "DV.hist(column='oil maximum, bbl')"
   ]
  },
  {
   "cell_type": "code",
   "execution_count": 96,
   "metadata": {},
   "outputs": [
    {
     "data": {
      "image/png": "[encoded data removed]",
      "text/plain": [
       "<Figure size 576x576 with 1 Axes>"
      ]
     },
     "metadata": {
      "needs_background": "light"
     },
     "output_type": "display_data"
    }
   ],
   "source": [
    "fig, ax = plt.subplots(figsize=(8,8))\n",
    "ax.scatter(DV['Surface_Lat_NAD27'], DV['Surface_lon_NAD27'],alpha=0.3, color='k', s=2)\n",
    "\n",
    "DV2 = DV[DV['TrueTemp'] > 120]\n",
    "ax.scatter(DV2['Surface_Lat_NAD27'], DV2['Surface_lon_NAD27'], color='tab:red', s=20, alpha=0.5)\n",
    "ax.set_xlabel(\"Latitude\")\n",
    "ax.set_ylabel(\"Longitude\")\n",
    "ax.set_title('Duvernay')\n",
    "#sns.scatterplot(data=DV, x='Surface_Lat_NAD27', y='Surface_lon_NAD27', hue = 'Final Temp, C', size='Final Temp, C',ax=ax,)\n",
    "ax.set_aspect('equal')"
   ]
  },
  {
   "cell_type": "code",
   "execution_count": 161,
   "metadata": {},
   "outputs": [],
   "source": [
    "DV['wc'] = DV['water total cum, bbl'] / (DV['water total cum, bbl'] + DV['oil total cum, bbl'])"
   ]
  },
  {
   "cell_type": "code",
   "execution_count": null,
   "metadata": {},
   "outputs": [],
   "source": [
    "DV[[]]"
   ]
  },
  {
   "cell_type": "code",
   "execution_count": 162,
   "metadata": {},
   "outputs": [
    {
     "data": {
      "image/png": "[encoded data removed]",
      "text/plain": [
       "<Figure size 432x432 with 1 Axes>"
      ]
     },
     "metadata": {
      "needs_background": "light"
     },
     "output_type": "display_data"
    }
   ],
   "source": [
    "fig, ax = plt.subplots(figsize=(6,6))\n",
    "ax.scatter(DV['Surface_lon_NAD27'], DV['Surface_Lat_NAD27'],alpha=0.3, color='k', s=2)\n",
    "\n",
    "DV2 = DV[DV['TrueTemp'] > 120]\n",
    "#ax.scatter(EB2['Surface_lon_NAD27'], EB2['Surface_Lat_NAD27'], color='tab:red', s=20, alpha=0.5)\n",
    "ax.set_xlabel(\"Latitude\")\n",
    "ax.set_ylabel(\"Longitude\")\n",
    "ax.set_title('Eaglebine')\n",
    "sns.scatterplot(data=DV2, x='Surface_lon_NAD27', y='Surface_Lat_NAD27', hue = 'wc', style='status', ax=ax, palette='Spectral_r')\n",
    "ax.set_aspect('equal')\n",
    "fig.savefig('dv_sweet_spots.svg')"
   ]
  },
  {
   "cell_type": "code",
   "execution_count": 169,
   "metadata": {
    "scrolled": true
   },
   "outputs": [
    {
     "data": {
      "text/html": [
       "<div>\n",
       "<style scoped>\n",
       "    .dataframe tbody tr th:only-of-type {\n",
       "        vertical-align: middle;\n",
       "    }\n",
       "\n",
       "    .dataframe tbody tr th {\n",
       "        vertical-align: top;\n",
       "    }\n",
       "\n",
       "    .dataframe thead th {\n",
       "        text-align: right;\n",
       "    }\n",
       "</style>\n",
       "<table border=\"1\" class=\"dataframe\">\n",
       "  <thead>\n",
       "    <tr style=\"text-align: right;\">\n",
       "      <th></th>\n",
       "      <th>UWI</th>\n",
       "      <th>TrueTemp</th>\n",
       "      <th>source</th>\n",
       "      <th>label</th>\n",
       "      <th>oil total cum, bbl</th>\n",
       "      <th>gas total cum, mcf</th>\n",
       "      <th>water total cum, bbl</th>\n",
       "    </tr>\n",
       "  </thead>\n",
       "  <tbody>\n",
       "    <tr>\n",
       "      <th>0</th>\n",
       "      <td>100010904012W500</td>\n",
       "      <td>123.758262</td>\n",
       "      <td>NaN</td>\n",
       "      <td>not assigned</td>\n",
       "      <td>NaN</td>\n",
       "      <td>NaN</td>\n",
       "      <td>NaN</td>\n",
       "    </tr>\n",
       "    <tr>\n",
       "      <th>1</th>\n",
       "      <td>100012404516W502</td>\n",
       "      <td>122.952385</td>\n",
       "      <td>NaN</td>\n",
       "      <td>test</td>\n",
       "      <td>NaN</td>\n",
       "      <td>NaN</td>\n",
       "      <td>NaN</td>\n",
       "    </tr>\n",
       "    <tr>\n",
       "      <th>15</th>\n",
       "      <td>100031204517W500</td>\n",
       "      <td>120.160407</td>\n",
       "      <td>NaN</td>\n",
       "      <td>not assigned</td>\n",
       "      <td>NaN</td>\n",
       "      <td>NaN</td>\n",
       "      <td>NaN</td>\n",
       "    </tr>\n",
       "    <tr>\n",
       "      <th>23</th>\n",
       "      <td>100042103812W500</td>\n",
       "      <td>141.737563</td>\n",
       "      <td>NaN</td>\n",
       "      <td>not assigned</td>\n",
       "      <td>NaN</td>\n",
       "      <td>NaN</td>\n",
       "      <td>NaN</td>\n",
       "    </tr>\n",
       "    <tr>\n",
       "      <th>56</th>\n",
       "      <td>100072504012W500</td>\n",
       "      <td>126.527321</td>\n",
       "      <td>NaN</td>\n",
       "      <td>not assigned</td>\n",
       "      <td>NaN</td>\n",
       "      <td>NaN</td>\n",
       "      <td>NaN</td>\n",
       "    </tr>\n",
       "    <tr>\n",
       "      <th>104</th>\n",
       "      <td>100111604914W500</td>\n",
       "      <td>126.151454</td>\n",
       "      <td>NaN</td>\n",
       "      <td>test</td>\n",
       "      <td>NaN</td>\n",
       "      <td>NaN</td>\n",
       "      <td>NaN</td>\n",
       "    </tr>\n",
       "    <tr>\n",
       "      <th>105</th>\n",
       "      <td>100112004213W500</td>\n",
       "      <td>124.049829</td>\n",
       "      <td>NaN</td>\n",
       "      <td>not assigned</td>\n",
       "      <td>NaN</td>\n",
       "      <td>NaN</td>\n",
       "      <td>NaN</td>\n",
       "    </tr>\n",
       "    <tr>\n",
       "      <th>129</th>\n",
       "      <td>100142103711W500</td>\n",
       "      <td>158.483678</td>\n",
       "      <td>NaN</td>\n",
       "      <td>not assigned</td>\n",
       "      <td>NaN</td>\n",
       "      <td>NaN</td>\n",
       "      <td>NaN</td>\n",
       "    </tr>\n",
       "    <tr>\n",
       "      <th>139</th>\n",
       "      <td>102112204416W500</td>\n",
       "      <td>123.920836</td>\n",
       "      <td>NaN</td>\n",
       "      <td>not assigned</td>\n",
       "      <td>0.0</td>\n",
       "      <td>3.364360e+08</td>\n",
       "      <td>1580411.194</td>\n",
       "    </tr>\n",
       "    <tr>\n",
       "      <th>401</th>\n",
       "      <td>100110505718W500</td>\n",
       "      <td>128.980000</td>\n",
       "      <td>synthetic</td>\n",
       "      <td>train</td>\n",
       "      <td>NaN</td>\n",
       "      <td>NaN</td>\n",
       "      <td>NaN</td>\n",
       "    </tr>\n",
       "    <tr>\n",
       "      <th>445</th>\n",
       "      <td>100132006502W600</td>\n",
       "      <td>124.380000</td>\n",
       "      <td>synthetic</td>\n",
       "      <td>train</td>\n",
       "      <td>NaN</td>\n",
       "      <td>NaN</td>\n",
       "      <td>NaN</td>\n",
       "    </tr>\n",
       "  </tbody>\n",
       "</table>\n",
       "</div>"
      ],
      "text/plain": [
       "                  UWI    TrueTemp     source         label  \\\n",
       "0    100010904012W500  123.758262        NaN  not assigned   \n",
       "1    100012404516W502  122.952385        NaN          test   \n",
       "15   100031204517W500  120.160407        NaN  not assigned   \n",
       "23   100042103812W500  141.737563        NaN  not assigned   \n",
       "56   100072504012W500  126.527321        NaN  not assigned   \n",
       "104  100111604914W500  126.151454        NaN          test   \n",
       "105  100112004213W500  124.049829        NaN  not assigned   \n",
       "129  100142103711W500  158.483678        NaN  not assigned   \n",
       "139  102112204416W500  123.920836        NaN  not assigned   \n",
       "401  100110505718W500  128.980000  synthetic         train   \n",
       "445  100132006502W600  124.380000  synthetic         train   \n",
       "\n",
       "     oil total cum, bbl  gas total cum, mcf  water total cum, bbl  \n",
       "0                   NaN                 NaN                   NaN  \n",
       "1                   NaN                 NaN                   NaN  \n",
       "15                  NaN                 NaN                   NaN  \n",
       "23                  NaN                 NaN                   NaN  \n",
       "56                  NaN                 NaN                   NaN  \n",
       "104                 NaN                 NaN                   NaN  \n",
       "105                 NaN                 NaN                   NaN  \n",
       "129                 NaN                 NaN                   NaN  \n",
       "139                 0.0        3.364360e+08           1580411.194  \n",
       "401                 NaN                 NaN                   NaN  \n",
       "445                 NaN                 NaN                   NaN  "
      ]
     },
     "execution_count": 169,
     "metadata": {},
     "output_type": "execute_result"
    }
   ],
   "source": [
    "DV.loc[DV['TrueTemp'] > 120, ['UWI', 'TrueTemp', 'source', 'label', 'oil total cum, bbl', 'gas total cum, mcf','water total cum, bbl',]]"
   ]
  },
  {
   "cell_type": "code",
   "execution_count": 172,
   "metadata": {},
   "outputs": [],
   "source": [
    "DV[DV['TrueTemp'] >120].to_csv('Duvernay selected wells.csv', index=False)"
   ]
  },
  {
   "cell_type": "code",
   "execution_count": 84,
   "metadata": {},
   "outputs": [
    {
     "data": {
      "text/plain": [
       "array([nan, 'synthetic'], dtype=object)"
      ]
     },
     "execution_count": 84,
     "metadata": {},
     "output_type": "execute_result"
    }
   ],
   "source": [
    "DV.source.unique()"
   ]
  },
  {
   "cell_type": "markdown",
   "metadata": {},
   "source": [
    "# Eaglebine"
   ]
  },
  {
   "cell_type": "code",
   "execution_count": 106,
   "metadata": {},
   "outputs": [
    {
     "data": {
      "text/plain": [
       "Index(['Unnamed: 0', 'UWI', 'BHT', 'TrueTemp', 'Field', 'TD (ft)', 'Avg_Gamma',\n",
       "       'Mud Wt_0', 'Elevation_KB', 'Surface_Lat_NAD83', 'Surface_lon_NAD83',\n",
       "       'Bottom_Lat_NAD83', 'Bottom_lon_NAD83', 'Surface_Lat_NAD27',\n",
       "       'Surface_lon_NAD27', 'Bottom_Lat_NAD27', 'Bottom_lon_NAD27', 'Set',\n",
       "       'Unnamed: 0.1', 'Unnamed: 0.1.1', 'SurfLat', 'SurfLong', 'TD, m',\n",
       "       'GL, m', 'Depth subsea, m', 'Depth subsurface, m', 'BHT, C', 'TSC, h',\n",
       "       'syn_diff_depth', 'Synthetic Temp, C', 'Static Temp, C',\n",
       "       'static_diff_depth', 'True Temp, C_x', 'source', 'depth_diff',\n",
       "       'abs_depth_diff', 'label', 'SLAT_WGS84', 'SLON_WGS84', 'DFT', 'DFD',\n",
       "       'DFV', 'DFPH', 'DFL', 'RMS', 'MST', 'RMF', 'MFST', 'RMC', 'MCST', 'RMB',\n",
       "       'TCS', 'TLAB', 'CS', 'BS', 'BSD', 'PHI', 'Vsh', 'CAL', 'mud_wt',\n",
       "       'mud_wt@depth(KB), m', 'Syn Int Temp, C', 'True Temp, C_y',\n",
       "       'True Temp_x, C', 'Temp_pred'],\n",
       "      dtype='object')"
      ]
     },
     "execution_count": 106,
     "metadata": {},
     "output_type": "execute_result"
    }
   ],
   "source": [
    "EBp.columns"
   ]
  },
  {
   "cell_type": "code",
   "execution_count": null,
   "metadata": {},
   "outputs": [],
   "source": []
  },
  {
   "cell_type": "code",
   "execution_count": 103,
   "metadata": {},
   "outputs": [],
   "source": [
    "eb_col_p = ['UWI',\n",
    " 'BHT',\n",
    " 'TrueTemp',\n",
    " 'Field',\n",
    " 'TD (ft)',\n",
    " 'Surface_Lat_NAD27',\n",
    " 'Surface_lon_NAD27',\n",
    " 'Bottom_Lat_NAD27',\n",
    " 'Bottom_lon_NAD27',\n",
    "]"
   ]
  },
  {
   "cell_type": "code",
   "execution_count": 105,
   "metadata": {},
   "outputs": [
    {
     "data": {
      "text/plain": [
       "Index(['UWI', 'SurfLat', 'SurfLong', 'TD, m_x', 'GL, m', 'Depth subsea, m',\n",
       "       'Depth subsurface, m', 'TSC, h', 'BHT, C', 'Synthetic Temp, C',\n",
       "       'Static Temp, C', 'True Temp, C', 'source', 'label',\n",
       "       'SurfaceLatitude_NAD27', 'SurfaceLongitude_NAD27',\n",
       "       'BottomLatitude_NAD27', 'BottomLongitude_NAD27', 'oil total cum, bbl',\n",
       "       'gas total cum, mcf', 'water total cum, bbl', 'gor total average',\n",
       "       'gas maximum, mcf', 'oil maximum, bbl', 'water maximum, bbl', 'status',\n",
       "       'Mud Wt', 'TD, m_y', 'MW at Depth(KB), m', 'KB, m',\n",
       "       'Min casing size, in', 'cumoil', 'cumgas', 'cumwater', 'GR', 'NPHI_SS',\n",
       "       'NPHI_LS', 'DPHI_SS', 'DPHI_LS', 'PEFZ', 'RHOB', 'CAL'],\n",
       "      dtype='object')"
      ]
     },
     "execution_count": 105,
     "metadata": {},
     "output_type": "execute_result"
    }
   ],
   "source": [
    "EBm.columns"
   ]
  },
  {
   "cell_type": "code",
   "execution_count": null,
   "metadata": {},
   "outputs": [],
   "source": []
  },
  {
   "cell_type": "code",
   "execution_count": 151,
   "metadata": {},
   "outputs": [],
   "source": [
    "eb_col_misc = ['UWI',\n",
    "    'oil total cum, bbl',\n",
    " 'gas total cum, mcf',\n",
    " 'water total cum, bbl',\n",
    " 'gor total average',\n",
    " 'gas maximum, mcf',\n",
    " 'oil maximum, bbl',\n",
    " 'water maximum, bbl',\n",
    " 'status',\n",
    "    'cumoil',\n",
    " 'cumgas',\n",
    " 'cumwater'\n",
    "]\n",
    "\n",
    "eb_col_m = ['UWI',\n",
    "     'TD, m_x',\n",
    " 'GL, m',\n",
    " 'Depth subsea, m',\n",
    " 'Depth subsurface, m',\n",
    "     'BHT, C',\n",
    " 'Synthetic Temp, C',\n",
    " 'Static Temp, C',\n",
    " 'True Temp, C',\n",
    " 'source',\n",
    " 'label',\n",
    "]\n",
    "\n",
    "EB = EBp[eb_col_p].merge(EBm[eb_col_m], on='UWI', how='left')\n",
    "\n",
    "EB = EB.merge(EBmisc[eb_col_misc], on='UWI', how='left')"
   ]
  },
  {
   "cell_type": "code",
   "execution_count": 152,
   "metadata": {
    "scrolled": true
   },
   "outputs": [
    {
     "data": {
      "text/plain": [
       "UWI                       0\n",
       "BHT                       0\n",
       "TrueTemp                  0\n",
       "Field                     0\n",
       "TD (ft)                   0\n",
       "Surface_Lat_NAD27         0\n",
       "Surface_lon_NAD27         0\n",
       "Bottom_Lat_NAD27          0\n",
       "Bottom_lon_NAD27          0\n",
       "TD, m_x                   0\n",
       "GL, m                     0\n",
       "Depth subsea, m           0\n",
       "Depth subsurface, m       0\n",
       "BHT, C                    0\n",
       "Synthetic Temp, C        81\n",
       "Static Temp, C          305\n",
       "True Temp, C             81\n",
       "source                   81\n",
       "label                     0\n",
       "oil total cum, bbl       78\n",
       "gas total cum, mcf       78\n",
       "water total cum, bbl     78\n",
       "gor total average        86\n",
       "gas maximum, mcf         78\n",
       "oil maximum, bbl         78\n",
       "water maximum, bbl       78\n",
       "status                   16\n",
       "cumoil                   74\n",
       "cumgas                   74\n",
       "cumwater                 74\n",
       "dtype: int64"
      ]
     },
     "execution_count": 152,
     "metadata": {},
     "output_type": "execute_result"
    }
   ],
   "source": [
    "EB.isnull().sum()"
   ]
  },
  {
   "cell_type": "code",
   "execution_count": 155,
   "metadata": {},
   "outputs": [],
   "source": [
    "EB['wc'] = EB['water total cum, bbl'] / (EB['water total cum, bbl'] + EB['oil total cum, bbl'])"
   ]
  },
  {
   "cell_type": "code",
   "execution_count": 159,
   "metadata": {},
   "outputs": [
    {
     "data": {
      "image/png": "[encoded data removed]",
      "text/plain": [
       "<Figure size 432x432 with 1 Axes>"
      ]
     },
     "metadata": {
      "needs_background": "light"
     },
     "output_type": "display_data"
    }
   ],
   "source": [
    "fig, ax = plt.subplots(figsize=(6,6))\n",
    "ax.scatter(EB['Surface_lon_NAD27'], EB['Surface_Lat_NAD27'],alpha=0.3, color='k', s=2)\n",
    "\n",
    "EB2 = EB[EB['TrueTemp'] > 120]\n",
    "#ax.scatter(EB2['Surface_lon_NAD27'], EB2['Surface_Lat_NAD27'], color='tab:red', s=20, alpha=0.5)\n",
    "ax.set_xlabel(\"Latitude\")\n",
    "ax.set_ylabel(\"Longitude\")\n",
    "ax.set_title('Eaglebine')\n",
    "sns.scatterplot(data=EB2, x='Surface_lon_NAD27', y='Surface_Lat_NAD27', hue = 'wc', style='status', ax=ax, palette='Spectral_r')\n",
    "ax.set_aspect('equal')\n",
    "fig.savefig('eb_sweet_spots.svg')"
   ]
  },
  {
   "cell_type": "code",
   "execution_count": 127,
   "metadata": {},
   "outputs": [
    {
     "data": {
      "image/png": "[encoded data removed]",
      "text/plain": [
       "<Figure size 576x576 with 1 Axes>"
      ]
     },
     "metadata": {
      "needs_background": "light"
     },
     "output_type": "display_data"
    }
   ],
   "source": [
    "fig, ax = plt.subplots(figsize=(8,8))\n",
    "ax.scatter(EB['Surface_lon_NAD27'], EB['Surface_Lat_NAD27'],alpha=0.3, color='k', s=2)\n",
    "\n",
    "EB2 = EB[EB['TrueTemp'] > 120]\n",
    "#ax.scatter(EB2['Surface_lon_NAD27'], EB2['Surface_Lat_NAD27'], color='tab:red', s=20, alpha=0.5)\n",
    "ax.set_xlabel(\"Latitude\")\n",
    "ax.set_ylabel(\"Longitude\")\n",
    "ax.set_title('Eaglebine')\n",
    "sns.scatterplot(data=EB, x='Surface_lon_NAD27', y='Surface_Lat_NAD27', hue = 'water maximum, bbl', size='water maximum, bbl',ax=ax, palette='Spectral_r')\n",
    "ax.set_aspect('equal')"
   ]
  },
  {
   "cell_type": "code",
   "execution_count": 129,
   "metadata": {},
   "outputs": [
    {
     "data": {
      "text/plain": [
       "0"
      ]
     },
     "execution_count": 129,
     "metadata": {},
     "output_type": "execute_result"
    }
   ],
   "source": [
    "EB['water maximum, bbl'].isnull().sum()"
   ]
  },
  {
   "cell_type": "code",
   "execution_count": 136,
   "metadata": {},
   "outputs": [
    {
     "data": {
      "text/plain": [
       "array([[<AxesSubplot:title={'center':'water maximum, bbl'}>]],\n",
       "      dtype=object)"
      ]
     },
     "execution_count": 136,
     "metadata": {},
     "output_type": "execute_result"
    },
    {
     "data": {
      "image/png": "[encoded data removed]",
      "text/plain": [
       "<Figure size 432x288 with 1 Axes>"
      ]
     },
     "metadata": {
      "needs_background": "light"
     },
     "output_type": "display_data"
    }
   ],
   "source": [
    "EB.hist(column='water maximum, bbl', bins =50)"
   ]
  },
  {
   "cell_type": "code",
   "execution_count": 138,
   "metadata": {},
   "outputs": [
    {
     "data": {
      "text/plain": [
       "UWI                       0\n",
       "BHT                       0\n",
       "TrueTemp                  0\n",
       "Field                     0\n",
       "TD (ft)                   0\n",
       "Surface_Lat_NAD27         0\n",
       "Surface_lon_NAD27         0\n",
       "Bottom_Lat_NAD27          0\n",
       "Bottom_lon_NAD27          0\n",
       "TD, m_x                   0\n",
       "GL, m                     0\n",
       "Depth subsea, m           0\n",
       "Depth subsurface, m       0\n",
       "BHT, C                    0\n",
       "Synthetic Temp, C        81\n",
       "Static Temp, C          305\n",
       "True Temp, C             81\n",
       "source                   81\n",
       "label                     0\n",
       "oil total cum, bbl        0\n",
       "gas total cum, mcf        0\n",
       "water total cum, bbl      0\n",
       "gor total average         0\n",
       "gas maximum, mcf          0\n",
       "oil maximum, bbl          0\n",
       "water maximum, bbl        0\n",
       "cumoil                    0\n",
       "cumgas                    0\n",
       "cumwater                  0\n",
       "status                   16\n",
       "dtype: int64"
      ]
     },
     "execution_count": 138,
     "metadata": {},
     "output_type": "execute_result"
    }
   ],
   "source": [
    "EB.isnull().sum()"
   ]
  },
  {
   "cell_type": "code",
   "execution_count": 140,
   "metadata": {},
   "outputs": [],
   "source": [
    "EB['wc'] = EB['oil total cum, bbl'] / EB['water total cum, bbl']"
   ]
  },
  {
   "cell_type": "code",
   "execution_count": 144,
   "metadata": {},
   "outputs": [
    {
     "data": {
      "text/plain": [
       "<matplotlib.collections.PathCollection at 0x23064a8dcd0>"
      ]
     },
     "execution_count": 144,
     "metadata": {},
     "output_type": "execute_result"
    },
    {
     "data": {
      "image/png": "[encoded data removed]",
      "text/plain": [
       "<Figure size 576x576 with 1 Axes>"
      ]
     },
     "metadata": {
      "needs_background": "light"
     },
     "output_type": "display_data"
    }
   ],
   "source": [
    "fig, ax = plt.subplots(figsize=(8,8))\n",
    "\n",
    "EB2 = EB[EB['wc']>0.5]\n",
    "ax.scatter(EB2['Surface_lon_NAD27'], EB2['Surface_Lat_NAD27'],alpha=0.3, color='k', s=2)\n"
   ]
  },
  {
   "cell_type": "code",
   "execution_count": 173,
   "metadata": {},
   "outputs": [
    {
     "data": {
      "text/html": [
       "<div>\n",
       "<style scoped>\n",
       "    .dataframe tbody tr th:only-of-type {\n",
       "        vertical-align: middle;\n",
       "    }\n",
       "\n",
       "    .dataframe tbody tr th {\n",
       "        vertical-align: top;\n",
       "    }\n",
       "\n",
       "    .dataframe thead th {\n",
       "        text-align: right;\n",
       "    }\n",
       "</style>\n",
       "<table border=\"1\" class=\"dataframe\">\n",
       "  <thead>\n",
       "    <tr style=\"text-align: right;\">\n",
       "      <th></th>\n",
       "      <th>UWI</th>\n",
       "      <th>TrueTemp</th>\n",
       "      <th>Surface_Lat_NAD27</th>\n",
       "      <th>Surface_lon_NAD27</th>\n",
       "      <th>Bottom_Lat_NAD27</th>\n",
       "      <th>Bottom_lon_NAD27</th>\n",
       "      <th>Formation</th>\n",
       "      <th>Synthetic Temp, C</th>\n",
       "      <th>Static Temp, C</th>\n",
       "      <th>True Temp, C</th>\n",
       "      <th>...</th>\n",
       "      <th>label</th>\n",
       "      <th>oil total cum, bbl</th>\n",
       "      <th>gas total cum, mcf</th>\n",
       "      <th>water total cum, bbl</th>\n",
       "      <th>gor total average</th>\n",
       "      <th>gas maximum, mcf</th>\n",
       "      <th>oil maximum, bbl</th>\n",
       "      <th>water maximum, bbl</th>\n",
       "      <th>status</th>\n",
       "      <th>wc</th>\n",
       "    </tr>\n",
       "  </thead>\n",
       "  <tbody>\n",
       "    <tr>\n",
       "      <th>0</th>\n",
       "      <td>100010904012W500</td>\n",
       "      <td>123.758262</td>\n",
       "      <td>52.424180</td>\n",
       "      <td>-115.657433</td>\n",
       "      <td>52.424180</td>\n",
       "      <td>-115.657433</td>\n",
       "      <td>Melkton</td>\n",
       "      <td>NaN</td>\n",
       "      <td>NaN</td>\n",
       "      <td>NaN</td>\n",
       "      <td>...</td>\n",
       "      <td>not assigned</td>\n",
       "      <td>NaN</td>\n",
       "      <td>NaN</td>\n",
       "      <td>NaN</td>\n",
       "      <td>NaN</td>\n",
       "      <td>NaN</td>\n",
       "      <td>NaN</td>\n",
       "      <td>NaN</td>\n",
       "      <td>producing</td>\n",
       "      <td>NaN</td>\n",
       "    </tr>\n",
       "    <tr>\n",
       "      <th>1</th>\n",
       "      <td>100012404516W502</td>\n",
       "      <td>122.952385</td>\n",
       "      <td>52.889725</td>\n",
       "      <td>-116.183134</td>\n",
       "      <td>52.889725</td>\n",
       "      <td>-116.183134</td>\n",
       "      <td>Melkton</td>\n",
       "      <td>NaN</td>\n",
       "      <td>NaN</td>\n",
       "      <td>NaN</td>\n",
       "      <td>...</td>\n",
       "      <td>test</td>\n",
       "      <td>NaN</td>\n",
       "      <td>NaN</td>\n",
       "      <td>NaN</td>\n",
       "      <td>NaN</td>\n",
       "      <td>NaN</td>\n",
       "      <td>NaN</td>\n",
       "      <td>NaN</td>\n",
       "      <td>producing</td>\n",
       "      <td>NaN</td>\n",
       "    </tr>\n",
       "    <tr>\n",
       "      <th>2</th>\n",
       "      <td>100012805703W500</td>\n",
       "      <td>52.117941</td>\n",
       "      <td>53.951223</td>\n",
       "      <td>-114.379260</td>\n",
       "      <td>53.951223</td>\n",
       "      <td>-114.379260</td>\n",
       "      <td>Kmannvl_L</td>\n",
       "      <td>NaN</td>\n",
       "      <td>NaN</td>\n",
       "      <td>NaN</td>\n",
       "      <td>...</td>\n",
       "      <td>test</td>\n",
       "      <td>NaN</td>\n",
       "      <td>NaN</td>\n",
       "      <td>NaN</td>\n",
       "      <td>NaN</td>\n",
       "      <td>NaN</td>\n",
       "      <td>NaN</td>\n",
       "      <td>NaN</td>\n",
       "      <td>producing</td>\n",
       "      <td>NaN</td>\n",
       "    </tr>\n",
       "    <tr>\n",
       "      <th>3</th>\n",
       "      <td>100013603712W500</td>\n",
       "      <td>13.146140</td>\n",
       "      <td>52.216665</td>\n",
       "      <td>-115.579316</td>\n",
       "      <td>52.217223</td>\n",
       "      <td>-115.578140</td>\n",
       "      <td>Clynx</td>\n",
       "      <td>NaN</td>\n",
       "      <td>NaN</td>\n",
       "      <td>NaN</td>\n",
       "      <td>...</td>\n",
       "      <td>not assigned</td>\n",
       "      <td>NaN</td>\n",
       "      <td>NaN</td>\n",
       "      <td>NaN</td>\n",
       "      <td>NaN</td>\n",
       "      <td>NaN</td>\n",
       "      <td>NaN</td>\n",
       "      <td>NaN</td>\n",
       "      <td>producing</td>\n",
       "      <td>NaN</td>\n",
       "    </tr>\n",
       "    <tr>\n",
       "      <th>4</th>\n",
       "      <td>100020206419W500</td>\n",
       "      <td>88.649752</td>\n",
       "      <td>54.503527</td>\n",
       "      <td>-116.758284</td>\n",
       "      <td>54.503527</td>\n",
       "      <td>-116.758284</td>\n",
       "      <td>Dwintrbrn</td>\n",
       "      <td>NaN</td>\n",
       "      <td>NaN</td>\n",
       "      <td>NaN</td>\n",
       "      <td>...</td>\n",
       "      <td>test</td>\n",
       "      <td>NaN</td>\n",
       "      <td>NaN</td>\n",
       "      <td>NaN</td>\n",
       "      <td>NaN</td>\n",
       "      <td>NaN</td>\n",
       "      <td>NaN</td>\n",
       "      <td>NaN</td>\n",
       "      <td>producing</td>\n",
       "      <td>NaN</td>\n",
       "    </tr>\n",
       "    <tr>\n",
       "      <th>...</th>\n",
       "      <td>...</td>\n",
       "      <td>...</td>\n",
       "      <td>...</td>\n",
       "      <td>...</td>\n",
       "      <td>...</td>\n",
       "      <td>...</td>\n",
       "      <td>...</td>\n",
       "      <td>...</td>\n",
       "      <td>...</td>\n",
       "      <td>...</td>\n",
       "      <td>...</td>\n",
       "      <td>...</td>\n",
       "      <td>...</td>\n",
       "      <td>...</td>\n",
       "      <td>...</td>\n",
       "      <td>...</td>\n",
       "      <td>...</td>\n",
       "      <td>...</td>\n",
       "      <td>...</td>\n",
       "      <td>...</td>\n",
       "      <td>...</td>\n",
       "    </tr>\n",
       "    <tr>\n",
       "      <th>485</th>\n",
       "      <td>102061003805W500</td>\n",
       "      <td>73.640000</td>\n",
       "      <td>52.252880</td>\n",
       "      <td>-114.633346</td>\n",
       "      <td>52.252880</td>\n",
       "      <td>-114.633346</td>\n",
       "      <td>K2nd_ws</td>\n",
       "      <td>73.64</td>\n",
       "      <td>NaN</td>\n",
       "      <td>73.64</td>\n",
       "      <td>...</td>\n",
       "      <td>train</td>\n",
       "      <td>3590.225</td>\n",
       "      <td>67616.993</td>\n",
       "      <td>6.919</td>\n",
       "      <td>18833.637</td>\n",
       "      <td>15541.985</td>\n",
       "      <td>838.432</td>\n",
       "      <td>6.919</td>\n",
       "      <td>producing</td>\n",
       "      <td>0.001923</td>\n",
       "    </tr>\n",
       "    <tr>\n",
       "      <th>486</th>\n",
       "      <td>102061504515W400</td>\n",
       "      <td>42.790000</td>\n",
       "      <td>52.877383</td>\n",
       "      <td>-112.097822</td>\n",
       "      <td>52.877383</td>\n",
       "      <td>-112.097822</td>\n",
       "      <td>Kellrslie</td>\n",
       "      <td>42.79</td>\n",
       "      <td>NaN</td>\n",
       "      <td>42.79</td>\n",
       "      <td>...</td>\n",
       "      <td>train</td>\n",
       "      <td>NaN</td>\n",
       "      <td>NaN</td>\n",
       "      <td>NaN</td>\n",
       "      <td>NaN</td>\n",
       "      <td>NaN</td>\n",
       "      <td>NaN</td>\n",
       "      <td>NaN</td>\n",
       "      <td>producing</td>\n",
       "      <td>NaN</td>\n",
       "    </tr>\n",
       "    <tr>\n",
       "      <th>487</th>\n",
       "      <td>102071804513W400</td>\n",
       "      <td>41.650000</td>\n",
       "      <td>52.879058</td>\n",
       "      <td>-111.876113</td>\n",
       "      <td>52.879058</td>\n",
       "      <td>-111.876113</td>\n",
       "      <td>Dwintrbrn</td>\n",
       "      <td>41.65</td>\n",
       "      <td>NaN</td>\n",
       "      <td>41.65</td>\n",
       "      <td>...</td>\n",
       "      <td>train</td>\n",
       "      <td>NaN</td>\n",
       "      <td>NaN</td>\n",
       "      <td>NaN</td>\n",
       "      <td>NaN</td>\n",
       "      <td>NaN</td>\n",
       "      <td>NaN</td>\n",
       "      <td>NaN</td>\n",
       "      <td>producing</td>\n",
       "      <td>NaN</td>\n",
       "    </tr>\n",
       "    <tr>\n",
       "      <th>488</th>\n",
       "      <td>102142004709W500</td>\n",
       "      <td>81.480000</td>\n",
       "      <td>53.072353</td>\n",
       "      <td>-115.285653</td>\n",
       "      <td>53.072353</td>\n",
       "      <td>-115.285653</td>\n",
       "      <td>Jrock_ck</td>\n",
       "      <td>81.48</td>\n",
       "      <td>NaN</td>\n",
       "      <td>81.48</td>\n",
       "      <td>...</td>\n",
       "      <td>train</td>\n",
       "      <td>12509.182</td>\n",
       "      <td>1448936.066</td>\n",
       "      <td>1160.481</td>\n",
       "      <td>115829.801</td>\n",
       "      <td>19818.591</td>\n",
       "      <td>210.709</td>\n",
       "      <td>191.839</td>\n",
       "      <td>producing</td>\n",
       "      <td>0.084895</td>\n",
       "    </tr>\n",
       "    <tr>\n",
       "      <th>489</th>\n",
       "      <td>106141105522W400</td>\n",
       "      <td>32.980000</td>\n",
       "      <td>53.742427</td>\n",
       "      <td>-113.166376</td>\n",
       "      <td>53.742427</td>\n",
       "      <td>-113.166376</td>\n",
       "      <td>Kviking</td>\n",
       "      <td>32.98</td>\n",
       "      <td>NaN</td>\n",
       "      <td>32.98</td>\n",
       "      <td>...</td>\n",
       "      <td>train</td>\n",
       "      <td>NaN</td>\n",
       "      <td>NaN</td>\n",
       "      <td>NaN</td>\n",
       "      <td>NaN</td>\n",
       "      <td>NaN</td>\n",
       "      <td>NaN</td>\n",
       "      <td>NaN</td>\n",
       "      <td>producing</td>\n",
       "      <td>NaN</td>\n",
       "    </tr>\n",
       "  </tbody>\n",
       "</table>\n",
       "<p>490 rows × 21 columns</p>\n",
       "</div>"
      ],
      "text/plain": [
       "                  UWI    TrueTemp  Surface_Lat_NAD27  Surface_lon_NAD27  \\\n",
       "0    100010904012W500  123.758262          52.424180        -115.657433   \n",
       "1    100012404516W502  122.952385          52.889725        -116.183134   \n",
       "2    100012805703W500   52.117941          53.951223        -114.379260   \n",
       "3    100013603712W500   13.146140          52.216665        -115.579316   \n",
       "4    100020206419W500   88.649752          54.503527        -116.758284   \n",
       "..                ...         ...                ...                ...   \n",
       "485  102061003805W500   73.640000          52.252880        -114.633346   \n",
       "486  102061504515W400   42.790000          52.877383        -112.097822   \n",
       "487  102071804513W400   41.650000          52.879058        -111.876113   \n",
       "488  102142004709W500   81.480000          53.072353        -115.285653   \n",
       "489  106141105522W400   32.980000          53.742427        -113.166376   \n",
       "\n",
       "     Bottom_Lat_NAD27  Bottom_lon_NAD27  Formation  Synthetic Temp, C  \\\n",
       "0           52.424180       -115.657433    Melkton                NaN   \n",
       "1           52.889725       -116.183134    Melkton                NaN   \n",
       "2           53.951223       -114.379260  Kmannvl_L                NaN   \n",
       "3           52.217223       -115.578140      Clynx                NaN   \n",
       "4           54.503527       -116.758284  Dwintrbrn                NaN   \n",
       "..                ...               ...        ...                ...   \n",
       "485         52.252880       -114.633346    K2nd_ws              73.64   \n",
       "486         52.877383       -112.097822  Kellrslie              42.79   \n",
       "487         52.879058       -111.876113  Dwintrbrn              41.65   \n",
       "488         53.072353       -115.285653   Jrock_ck              81.48   \n",
       "489         53.742427       -113.166376    Kviking              32.98   \n",
       "\n",
       "     Static Temp, C  True Temp, C  ...         label oil total cum, bbl  \\\n",
       "0               NaN           NaN  ...  not assigned                NaN   \n",
       "1               NaN           NaN  ...          test                NaN   \n",
       "2               NaN           NaN  ...          test                NaN   \n",
       "3               NaN           NaN  ...  not assigned                NaN   \n",
       "4               NaN           NaN  ...          test                NaN   \n",
       "..              ...           ...  ...           ...                ...   \n",
       "485             NaN         73.64  ...         train           3590.225   \n",
       "486             NaN         42.79  ...         train                NaN   \n",
       "487             NaN         41.65  ...         train                NaN   \n",
       "488             NaN         81.48  ...         train          12509.182   \n",
       "489             NaN         32.98  ...         train                NaN   \n",
       "\n",
       "     gas total cum, mcf  water total cum, bbl  gor total average  \\\n",
       "0                   NaN                   NaN                NaN   \n",
       "1                   NaN                   NaN                NaN   \n",
       "2                   NaN                   NaN                NaN   \n",
       "3                   NaN                   NaN                NaN   \n",
       "4                   NaN                   NaN                NaN   \n",
       "..                  ...                   ...                ...   \n",
       "485           67616.993                 6.919          18833.637   \n",
       "486                 NaN                   NaN                NaN   \n",
       "487                 NaN                   NaN                NaN   \n",
       "488         1448936.066              1160.481         115829.801   \n",
       "489                 NaN                   NaN                NaN   \n",
       "\n",
       "     gas maximum, mcf  oil maximum, bbl  water maximum, bbl     status  \\\n",
       "0                 NaN               NaN                 NaN  producing   \n",
       "1                 NaN               NaN                 NaN  producing   \n",
       "2                 NaN               NaN                 NaN  producing   \n",
       "3                 NaN               NaN                 NaN  producing   \n",
       "4                 NaN               NaN                 NaN  producing   \n",
       "..                ...               ...                 ...        ...   \n",
       "485         15541.985           838.432               6.919  producing   \n",
       "486               NaN               NaN                 NaN  producing   \n",
       "487               NaN               NaN                 NaN  producing   \n",
       "488         19818.591           210.709             191.839  producing   \n",
       "489               NaN               NaN                 NaN  producing   \n",
       "\n",
       "           wc  \n",
       "0         NaN  \n",
       "1         NaN  \n",
       "2         NaN  \n",
       "3         NaN  \n",
       "4         NaN  \n",
       "..        ...  \n",
       "485  0.001923  \n",
       "486       NaN  \n",
       "487       NaN  \n",
       "488  0.084895  \n",
       "489       NaN  \n",
       "\n",
       "[490 rows x 21 columns]"
      ]
     },
     "execution_count": 173,
     "metadata": {},
     "output_type": "execute_result"
    }
   ],
   "source": [
    "DV"
   ]
  },
  {
   "cell_type": "code",
   "execution_count": 175,
   "metadata": {},
   "outputs": [
    {
     "data": {
      "text/plain": [
       "24037.0"
      ]
     },
     "execution_count": 175,
     "metadata": {},
     "output_type": "execute_result"
    }
   ],
   "source": [
    "EB['TD (ft)'].max()"
   ]
  },
  {
   "cell_type": "code",
   "execution_count": 177,
   "metadata": {},
   "outputs": [
    {
     "data": {
      "text/plain": [
       "324"
      ]
     },
     "execution_count": 177,
     "metadata": {},
     "output_type": "execute_result"
    }
   ],
   "source": [
    "len(EB)"
   ]
  },
  {
   "cell_type": "code",
   "execution_count": 186,
   "metadata": {},
   "outputs": [],
   "source": [
    "EB[['UWI', 'TrueTemp']].to_csv('Eaglebine temperatures.csv')"
   ]
  },
  {
   "cell_type": "code",
   "execution_count": 187,
   "metadata": {},
   "outputs": [],
   "source": [
    "DV[['UWI', 'TrueTemp']].to_csv('Duvernay temperatures.csv')"
   ]
  },
  {
   "cell_type": "code",
   "execution_count": 184,
   "metadata": {},
   "outputs": [
    {
     "data": {
      "text/plain": [
       "Index(['UWI', 'TrueTemp', 'Surface_Lat_NAD27', 'Surface_lon_NAD27',\n",
       "       'Bottom_Lat_NAD27', 'Bottom_lon_NAD27', 'Formation',\n",
       "       'Synthetic Temp, C', 'Static Temp, C', 'True Temp, C', 'source',\n",
       "       'label', 'oil total cum, bbl', 'gas total cum, mcf',\n",
       "       'water total cum, bbl', 'gor total average', 'gas maximum, mcf',\n",
       "       'oil maximum, bbl', 'water maximum, bbl', 'status', 'wc'],\n",
       "      dtype='object')"
      ]
     },
     "execution_count": 184,
     "metadata": {},
     "output_type": "execute_result"
    }
   ],
   "source": [
    "DV.columns"
   ]
  },
  {
   "cell_type": "code",
   "execution_count": null,
   "metadata": {},
   "outputs": [],
   "source": []
  }
 ],
 "metadata": {
  "interpreter": {
   "hash": "1623ae180b50f22c69d9e2cb878edd5ce0d37973e0e1d0b10581911d53e99da0"
  },
  "kernelspec": {
   "display_name": "gtx_env",
   "language": "python",
   "name": "gtx_env"
  },
  "language_info": {
   "codemirror_mode": {
    "name": "ipython",
    "version": 3
   },
   "file_extension": ".py",
   "mimetype": "text/x-python",
   "name": "python",
   "nbconvert_exporter": "python",
   "pygments_lexer": "ipython3",
   "version": "3.9.0"
  }
 },
 "nbformat": 4,
 "nbformat_minor": 2
}
